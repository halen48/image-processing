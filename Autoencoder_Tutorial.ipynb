{
  "cells": [
    {
      "cell_type": "markdown",
      "metadata": {
        "id": "view-in-github",
        "colab_type": "text"
      },
      "source": [
        "<a href=\"https://colab.research.google.com/github/halen48/image-processing/blob/main/Autoencoder_Tutorial.ipynb\" target=\"_parent\"><img src=\"https://colab.research.google.com/assets/colab-badge.svg\" alt=\"Open In Colab\"/></a>"
      ]
    },
    {
      "cell_type": "markdown",
      "metadata": {
        "id": "C0FdONlw70VO"
      },
      "source": [
        "#Dependências"
      ]
    },
    {
      "cell_type": "code",
      "execution_count": null,
      "metadata": {
        "id": "SD8nJdV_u3jt"
      },
      "outputs": [],
      "source": [
        "import numpy as np #NumPy\n",
        "import tensorflow as tf #TensorFlow - Framework de Aprendizagem de Máquina\n",
        "import matplotlib.pyplot as plt #MatplotLib - Framework para mostrar imagens\n",
        "\n",
        "# Dependências do Keras - Framework de Aprendizagem de Máquina\n",
        "from tensorflow.keras import layers\n",
        "from tensorflow.keras.datasets import mnist\n",
        "from tensorflow.keras.models import Model"
      ]
    },
    {
      "cell_type": "markdown",
      "metadata": {
        "id": "guK6fbIZ3ibX"
      },
      "source": [
        "#Pré processamento\n",
        "\n",
        "O pré processamento consiste em um processamento prévio, que antecede o processamento que temos como objetivo final. Geralmente são utilizadas outras tecnicas conhecidas no âmbito de processamento de imagem. Exemplo:\n",
        "\n",
        "<img src=\"https://opendatascience.com/wp-content/uploads/2019/04/22.png\">\n",
        "\n",
        "Para o nosso exemplo, o pré processamento consiste em duas etapas:"
      ]
    },
    {
      "cell_type": "markdown",
      "metadata": {
        "id": "C__HOt4l5TU-"
      },
      "source": [
        "##Redimensionamento das imagens\n",
        "Para um tamanho específico, uma vez que o autoencoder requer dimensões fixas para as imagens.\n",
        "\n",
        "<img src=\"https://blog.filestack.com/wp-content/uploads/2019/03/image-resize-blog1.png\">"
      ]
    },
    {
      "cell_type": "code",
      "execution_count": null,
      "metadata": {
        "cellView": "form",
        "id": "LuEZVyHJ1Ma5"
      },
      "outputs": [],
      "source": [
        "dimensoes_imagem=(28, 28, 1) #@param"
      ]
    },
    {
      "cell_type": "code",
      "execution_count": null,
      "metadata": {
        "id": "3pNQn93P5kJH"
      },
      "outputs": [],
      "source": [
        "def reshape(data, shape):\n",
        "  return np.reshape(data, (len(data), *shape))"
      ]
    },
    {
      "cell_type": "markdown",
      "metadata": {
        "id": "jAqYDnwD5Rjf"
      },
      "source": [
        "##Normalização\n",
        "Limitar os dados a um intervalo de 0 a 1, a fim de evitar problemas de escala, garantindo que trabalhemos apenas com os valores de pixels na forma de porcentagens.\n",
        "\n",
        "Note que os valores dos pixels variam entre 0 (preto - desligado) e 255 (branco - ligado).<br>\n",
        "<img src=\"data:image/png;base64,iVBORw0KGgoAAAANSUhEUgAAAZMAAAB9CAMAAABQ+34VAAAAclBMVEX///8yMjLR0dFXV1cCAgKioqKmpqba2trW1tacnJwrKyvOzs7FxcWjo6Pg4ODU1NQXFxcSEhJgYGB/f38eHh5VVVXy8vJ1dXWQkJBLS0vo6Ojz8/Ozs7O6urrs7OxDQ0Nubm44ODiCgoImJiZlZWWLi4v+9MOxAAADwklEQVR4nO3cWZOiOhiA4ahhFTdwYxMR/f9/cb44S51DpSC5mGPPnPe56OquSiLNC4hapVIAAAAAAAAAAAAAAAAAAAAAgD9FvV56WGc+o5eeo9devIZnfot/tkmm/Rx86NTDQucenmn+KJw9FtfEXXDa/klN9gsfx5WPfRB6yDdR7Cx61j47Jfibm5y8miSbwFm4Cnbul8U4P/vslIQmNPk3mljQhCYjNLGgCU1GaGJBE5qM0MSCJjQZoYkFTWgyQhMLmtBkhCYWNKHJCE0saEKTEZpY0IQmIzSxoAlNRmhiQROajNDEgiY0GaGJBU1oMkITC5rQZIQmFjShyQhNLGhCkxGaWNCEJiM0saAJTUZoYkETmozQxIImNBmhicVf3cQnCd+38tPX+V6iVHsVHE4XD8Pj6qGsPtqkjrzEXqN3v3G0+0liyOXLx0eTAACA/5Pb4545D26K4rJU52J+Sl3JK7fzTTi9Wqjr95zbjznTYx/3l9mWeyGT2nsxPVr+w8os/n3Z89ziX0IfLo/O3+e6T5pwq4Yw1svpgVFaDq16HtOFbhzWrdNWqW1fHhtVDvLqZXKD0mt0WalsiK6lavW6OU6v/RrKNFaRTodO1eZV1JePsu7MEec6WpsfOz0/JQ9V9N5XbeeyEb2WE69rVbQyh3TwnBpcy4q1Vp3M0HUpxfPJ6luztZ3aFOaPZe+wNR/XXmSXlI6DY/1ML6qRXbZOp0cWL5WZGvUxclj3tS0zVfW37P0+R3WcPZLDXml5/d1n7ybXqaG1bEDWqyII5VQMLk3osD0f1sjxs3Q5lo315XbrkkYy7vbTI6v9+9BX17vbytIkTrv7IZHf75P72MgkiJbnq7JtD1mo58af5TJ66oIuV48hWS3ctuiDvM6T94SuzWXKzH+2Sup2OKt6cDlN1PcmeqsqfZOcc6dJaM4RGa0WmWrzzTWZHl6lMsCcgXpnbjj61m2TPmcnV9iwcBwcyhGZ3Cu5Qm+mp7wvP+V6Nt0v5tp1kB12rFSTz4wN3ouuGvN8ksndQDp9ixLtzfONGdNnsTzE3eWm47NWRXhwfbt6q5ONHJ+nS6NnpnSN7IuternWNs/YMifra/WcOey3+il35HKn0eQXtd43l+mGN7nxO9f1oVHrQ326yqn42TfnnTQen+pUSVA5TYn60tzeFq7HZC5Nqq5bxPLrzJ15lWVtK2vHV3MRWl5nLkXhcdgfShUvysXOPET65S9dv4/Xh30/eH0Y5ev8j58AAAAAAAAAAAAAAAAAAAAAAADAf+MbWIHs+5MwjMsAAAAASUVORK5CYII=\">"
      ]
    },
    {
      "cell_type": "code",
      "execution_count": null,
      "metadata": {
        "id": "wtwP2gGI5NAv"
      },
      "outputs": [],
      "source": [
        "def normalizacao(data):\n",
        "  return data.astype(\"float32\") / 255.0"
      ]
    },
    {
      "cell_type": "markdown",
      "metadata": {
        "id": "shHZXdQI8Lae"
      },
      "source": [
        "##Pipleline de preprocessamento"
      ]
    },
    {
      "cell_type": "code",
      "execution_count": null,
      "metadata": {
        "id": "YEDWTP0Wu4QU"
      },
      "outputs": [],
      "source": [
        "def preprocessamento(data, dimensao):\n",
        "  data = reshape(data, dimensao)\n",
        "  data = normalizacao(data)\n",
        "  return data"
      ]
    },
    {
      "cell_type": "markdown",
      "metadata": {
        "id": "Z-N42YqKAtp6"
      },
      "source": [
        "#Dados processados"
      ]
    },
    {
      "cell_type": "markdown",
      "metadata": {
        "id": "dJPP0XncWlkO"
      },
      "source": [
        "##Display\n",
        "Essa função é útil para visualizar várias imagens de uma só vez, como, por exemplo, mostrar um conjunto de resultados de processamento de imagens ou saída de um modelo de aprendizado de máquina."
      ]
    },
    {
      "cell_type": "code",
      "execution_count": null,
      "metadata": {
        "id": "9u3fpeVZlH7C"
      },
      "outputs": [],
      "source": [
        "def display(grupos_images, mostra_imagens):\n",
        "  indices = np.random.randint(len(grupos_images[0]), size=mostra_imagens)\n",
        "  for images in [g[indices,:] for g in grupos_images]:\n",
        "    max_imgs = len(images)\n",
        "    plt.figure(figsize=(2*max_imgs, 4))\n",
        "    for i, image in enumerate(images):\n",
        "        ax = plt.subplot(2, max_imgs, i + 1)\n",
        "        plt.imshow(image)\n",
        "        plt.gray()\n",
        "        ax.get_xaxis().set_visible(False)\n",
        "        ax.get_yaxis().set_visible(False)\n",
        "\n",
        "    plt.show()"
      ]
    },
    {
      "cell_type": "markdown",
      "metadata": {
        "id": "L8ZGIacXXLe-"
      },
      "source": [
        "##Dados de treino/teste\n",
        "Os dados do conjunto de dados MNIST deve ser carregado em memória e, em seguida, aplica um processo de pré-processamento às imagens de treinamento e teste, armazenando os resultados de volta nas variáveis train_data e test_data. O pré-processamento é importante para preparar os dados para serem usados em algoritmos"
      ]
    },
    {
      "cell_type": "code",
      "execution_count": null,
      "metadata": {
        "id": "-yclPTnxlH7D"
      },
      "outputs": [],
      "source": [
        "(train_data, train_label), (test_data, test_label) = mnist.load_data()\n",
        "\n",
        "train_data = preprocessamento(train_data, dimensoes_imagem)\n",
        "test_data = preprocessamento(test_data, dimensoes_imagem)"
      ]
    },
    {
      "cell_type": "code",
      "execution_count": null,
      "metadata": {
        "cellView": "form",
        "colab": {
          "base_uri": "https://localhost:8080/",
          "height": 170
        },
        "id": "IXUBZtqUXSom",
        "outputId": "11f313d1-0676-40e6-baa3-26d00d81d396"
      },
      "outputs": [
        {
          "data": {
            "image/png": "[encoded data removed]",
            "text/plain": [
              "<Figure size 1000x400 with 5 Axes>"
            ]
          },
          "metadata": {},
          "output_type": "display_data"
        }
      ],
      "source": [
        "mostra_imagens = 5 #@param\n",
        "display([train_data],mostra_imagens)"
      ]
    },
    {
      "cell_type": "markdown",
      "metadata": {
        "id": "U3a0LveLuIEt"
      },
      "source": [
        "#Modelo\n",
        "Um autoencoder é como um \"artista\" que aprende a desenhar uma imagem complexa observando o menor número possível de traços (codificador), e depois tenta redesenhar a imagem a partir desses traços (decodificador)."
      ]
    },
    {
      "cell_type": "markdown",
      "metadata": {
        "id": "MlWxQiO6XRCm"
      },
      "source": [
        "<img src=\"https://miro.medium.com/v2/resize:fit:1400/1*I5MVGIrROrAnD3U_2Jm1Ng.png\">"
      ]
    },
    {
      "cell_type": "code",
      "execution_count": null,
      "metadata": {
        "cellView": "form",
        "id": "vwp9DF-nhWzf"
      },
      "outputs": [],
      "source": [
        "z = 5 #@param"
      ]
    },
    {
      "cell_type": "markdown",
      "metadata": {
        "id": "4YH1lLkIhIaH"
      },
      "source": [
        "##Codificador"
      ]
    },
    {
      "cell_type": "code",
      "execution_count": null,
      "metadata": {
        "id": "qfqAzioH21Zo"
      },
      "outputs": [],
      "source": [
        "def codificador(dimensoes,z):\n",
        "  entrada = layers.Input(dimensoes)\n",
        "\n",
        "  x = layers.Conv2D(32, (3, 3), activation=\"relu\", padding=\"same\")(entrada)\n",
        "  x = layers.MaxPooling2D((2, 2), padding=\"same\")(x)\n",
        "  x = layers.Conv2D(32, (3, 3), activation=\"relu\", padding=\"same\")(x)\n",
        "  x = layers.MaxPooling2D((2, 2), padding=\"same\")(x)\n",
        "  x = layers.Flatten()(x)\n",
        "  x = layers.Dense(z, activation='relu')(x)\n",
        "\n",
        "  return Model(entrada, x)"
      ]
    },
    {
      "cell_type": "code",
      "execution_count": null,
      "metadata": {
        "colab": {
          "base_uri": "https://localhost:8080/"
        },
        "id": "RZoU5jp1hitQ",
        "outputId": "f9af23eb-0a95-4ce0-b082-1bc31cdd9d90"
      },
      "outputs": [
        {
          "name": "stdout",
          "output_type": "stream",
          "text": [
            "Model: \"model_22\"\n",
            "_________________________________________________________________\n",
            " Layer (type)                Output Shape              Param #   \n",
            "=================================================================\n",
            " input_17 (InputLayer)       [(None, 28, 28, 1)]       0         \n",
            "                                                                 \n",
            " conv2d_24 (Conv2D)          (None, 28, 28, 32)        320       \n",
            "                                                                 \n",
            " max_pooling2d_16 (MaxPoolin  (None, 14, 14, 32)       0         \n",
            " g2D)                                                            \n",
            "                                                                 \n",
            " conv2d_25 (Conv2D)          (None, 14, 14, 32)        9248      \n",
            "                                                                 \n"
          ]
        },
        {
          "name": "stdout",
          "output_type": "stream",
          "text": [
            " max_pooling2d_17 (MaxPoolin  (None, 7, 7, 32)         0         \n",
            " g2D)                                                            \n",
            "                                                                 \n",
            " flatten_8 (Flatten)         (None, 1568)              0         \n",
            "                                                                 \n",
            " dense_16 (Dense)            (None, 5)                 7845      \n",
            "                                                                 \n",
            "=================================================================\n",
            "Total params: 17,413\n",
            "Trainable params: 17,413\n",
            "Non-trainable params: 0\n",
            "_________________________________________________________________\n"
          ]
        }
      ],
      "source": [
        "m = codificador(dimensoes_imagem,z)\n",
        "m.summary()"
      ]
    },
    {
      "cell_type": "markdown",
      "metadata": {
        "id": "QNG5WO0PhMQo"
      },
      "source": [
        "##Decodificador"
      ]
    },
    {
      "cell_type": "code",
      "execution_count": null,
      "metadata": {
        "id": "OZT4pSYd3Smf"
      },
      "outputs": [],
      "source": [
        "def decodificador(z,dimensao,cores,ativacao_ultima_camada = 'relu'):\n",
        "  dim = int(np.sqrt((dimensao)/32))\n",
        "\n",
        "  entrada = layers.Input(z)\n",
        "  x = layers.Dense(dimensao)(entrada)\n",
        "  x = layers.Reshape(target_shape=(dim,dim,32))(x)\n",
        "  x = layers.Conv2DTranspose(32, (3, 3), strides=2, activation=\"relu\", padding=\"same\")(x)\n",
        "  x = layers.Conv2DTranspose(32, (3, 3), strides=2, activation=\"relu\", padding=\"same\")(x)\n",
        "  x = layers.Conv2D(cores, (3, 3), activation=ativacao_ultima_camada, padding=\"same\")(x)\n",
        "\n",
        "  return Model(entrada, x)"
      ]
    },
    {
      "cell_type": "code",
      "execution_count": null,
      "metadata": {
        "colab": {
          "base_uri": "https://localhost:8080/"
        },
        "id": "86e8W_9DILT7",
        "outputId": "827ec9a5-33b2-4dfc-ac08-f878c859ea63"
      },
      "outputs": [
        {
          "name": "stdout",
          "output_type": "stream",
          "text": [
            "Model: \"model_23\"\n",
            "_________________________________________________________________\n",
            " Layer (type)                Output Shape              Param #   \n",
            "=================================================================\n",
            " input_18 (InputLayer)       [(None, 5)]               0         \n",
            "                                                                 \n",
            " dense_17 (Dense)            (None, 1568)              9408      \n",
            "                                                                 \n",
            " reshape_8 (Reshape)         (None, 7, 7, 32)          0         \n",
            "                                                                 \n",
            " conv2d_transpose_16 (Conv2D  (None, 14, 14, 32)       9248      \n",
            " Transpose)                                                      \n",
            "                                                                 \n",
            " conv2d_transpose_17 (Conv2D  (None, 28, 28, 32)       9248      \n",
            " Transpose)                                                      \n",
            "                                                                 \n",
            " conv2d_26 (Conv2D)          (None, 28, 28, 1)         289       \n",
            "                                                                 \n",
            "=================================================================\n",
            "Total params: 28,193\n",
            "Trainable params: 28,193\n",
            "Non-trainable params: 0\n",
            "_________________________________________________________________\n"
          ]
        }
      ],
      "source": [
        "decodificador(z,1568, 1).summary()"
      ]
    },
    {
      "cell_type": "markdown",
      "metadata": {
        "id": "ZqVw2A8rlV1M"
      },
      "source": [
        "##AutoEncoder\n",
        "Essa classe encapsula um modelo de autoencoder, facilitando a criação, treinamento e uso do modelo. Ela inclui um codificador, um decodificador e um modelo completo. O codificador mapeia a entrada para uma representação interna, e o decodificador reconstrói a entrada a partir dessa representação. Essa é uma abordagem comum para tarefas de redução de dimensionalidade e geração de dados."
      ]
    },
    {
      "cell_type": "code",
      "execution_count": null,
      "metadata": {
        "id": "ReQdQHXglH7D"
      },
      "outputs": [],
      "source": [
        "class AutoEncoder():\n",
        "  def __init__(self, dimensoes, z, cores, ativacao_ultima_camada = 'relu'):\n",
        "    self.dimensoes = dimensoes\n",
        "    self.z = z\n",
        "\n",
        "    self.codificador = codificador(dimensoes,z)\n",
        "    tamanho_saida_cod = self.codificador.layers[-2].output_shape[1]\n",
        "    self.decodificador = decodificador(z,tamanho_saida_cod, cores, ativacao_ultima_camada)\n",
        "    saida = self.decodificador(self.codificador.output)\n",
        "\n",
        "    self.model = Model(self.codificador.input, saida)\n",
        "\n",
        "  def summary(self):\n",
        "    self.codificador.summary()\n",
        "    self.decodificador.summary()\n",
        "\n",
        "  def compile(self, *args, **kwargs):\n",
        "    self.model.compile(*args, **kwargs)\n",
        "\n",
        "  def fit(self, *args, **kwargs):\n",
        "    self.model.fit(*args, **kwargs)\n",
        "\n",
        "  def predict(self, *args, **kwargs):\n",
        "    return self.model.predict(*args, **kwargs)\n",
        "\n",
        "  def codigo(self,*args, **kwargs):\n",
        "    return self.codificador.predict(*args, **kwargs)\n",
        "\n",
        "  def amostra(self,lote):\n",
        "    return self.decodificador(np.random.rand(lote, self.z)).numpy()\n",
        "\n",
        "  def __call__(self,entrada):\n",
        "    return self.model(entrada)"
      ]
    },
    {
      "cell_type": "code",
      "execution_count": null,
      "metadata": {
        "colab": {
          "base_uri": "https://localhost:8080/"
        },
        "id": "X_qKfeRLLpPp",
        "outputId": "dd54f803-5cbc-48ec-e0b3-a7208863cabd"
      },
      "outputs": [
        {
          "name": "stdout",
          "output_type": "stream",
          "text": [
            "Model: \"model_24\"\n",
            "_________________________________________________________________\n",
            " Layer (type)                Output Shape              Param #   \n",
            "=================================================================\n",
            " input_19 (InputLayer)       [(None, 28, 28, 1)]       0         \n",
            "                                                                 \n",
            " conv2d_27 (Conv2D)          (None, 28, 28, 32)        320       \n",
            "                                                                 \n",
            " max_pooling2d_18 (MaxPoolin  (None, 14, 14, 32)       0         \n",
            " g2D)                                                            \n",
            "                                                                 \n",
            " conv2d_28 (Conv2D)          (None, 14, 14, 32)        9248      \n",
            "                                                                 \n",
            " max_pooling2d_19 (MaxPoolin  (None, 7, 7, 32)         0         \n",
            " g2D)                                                            \n",
            "                                                                 \n",
            " flatten_9 (Flatten)         (None, 1568)              0         \n",
            "                                                                 \n",
            " dense_18 (Dense)            (None, 5)                 7845      \n",
            "                                                                 \n",
            "=================================================================\n",
            "Total params: 17,413\n",
            "Trainable params: 17,413\n",
            "Non-trainable params: 0\n",
            "_________________________________________________________________\n",
            "Model: \"model_25\"\n",
            "_________________________________________________________________\n",
            " Layer (type)                Output Shape              Param #   \n",
            "=================================================================\n",
            " input_20 (InputLayer)       [(None, 5)]               0         \n",
            "                                                                 \n",
            " dense_19 (Dense)            (None, 1568)              9408      \n",
            "                                                                 \n",
            " reshape_9 (Reshape)         (None, 7, 7, 32)          0         \n",
            "                                                                 \n",
            " conv2d_transpose_18 (Conv2D  (None, 14, 14, 32)       9248      \n",
            " Transpose)                                                      \n",
            "                                                                 \n",
            " conv2d_transpose_19 (Conv2D  (None, 28, 28, 32)       9248      \n",
            " Transpose)                                                      \n",
            "                                                                 \n",
            " conv2d_29 (Conv2D)          (None, 28, 28, 1)         289       \n",
            "                                                                 \n",
            "=================================================================\n",
            "Total params: 28,193\n",
            "Trainable params: 28,193\n",
            "Non-trainable params: 0\n",
            "_________________________________________________________________\n"
          ]
        }
      ],
      "source": [
        "AE = AutoEncoder(dimensoes_imagem, z, 1)\n",
        "AE.summary()"
      ]
    },
    {
      "cell_type": "markdown",
      "metadata": {
        "id": "__foxw14lZS8"
      },
      "source": [
        " ```compile``` é usado para configurar a fase de treinamento de um modelo de rede neural. Essa fase de treinamento é onde você especifica como o modelo deve aprender com os dados."
      ]
    },
    {
      "cell_type": "code",
      "execution_count": null,
      "metadata": {
        "id": "p9cc9fsq1Odx"
      },
      "outputs": [],
      "source": [
        "AE.compile(optimizer=\"adam\", loss=\"binary_crossentropy\", metrics=['mae'])"
      ]
    },
    {
      "cell_type": "markdown",
      "metadata": {
        "id": "C11NZJkvlZtM"
      },
      "source": [
        "##Treinamento"
      ]
    },
    {
      "cell_type": "code",
      "execution_count": null,
      "metadata": {
        "colab": {
          "base_uri": "https://localhost:8080/",
          "height": 668
        },
        "id": "6QeNPfKclH7E",
        "outputId": "050f27d2-7720-4025-9858-e08140b71d2a"
      },
      "outputs": [
        {
          "name": "stdout",
          "output_type": "stream",
          "text": [
            "Epoch 1/50\n",
            "469/469 [==============================] - 2s 3ms/step - loss: 0.2373 - mae: 0.1310 - val_loss: 0.2004 - val_mae: 0.1127\n",
            "Epoch 2/50\n",
            "469/469 [==============================] - 1s 3ms/step - loss: 0.2029 - mae: 0.1115 - val_loss: 0.1903 - val_mae: 0.1056\n",
            "Epoch 3/50\n",
            "469/469 [==============================] - 1s 3ms/step - loss: 0.1901 - mae: 0.1042 - val_loss: 0.1817 - val_mae: 0.0991\n",
            "Epoch 4/50\n",
            "469/469 [==============================] - 1s 3ms/step - loss: 0.1930 - mae: 0.1050 - val_loss: 0.1835 - val_mae: 0.0996\n",
            "Epoch 5/50\n",
            "469/469 [==============================] - 1s 3ms/step - loss: 0.1793 - mae: 0.0964 - val_loss: 0.1776 - val_mae: 0.0964\n",
            "Epoch 6/50\n",
            "469/469 [==============================] - 1s 3ms/step - loss: 0.1802 - mae: 0.0959 - val_loss: 0.1823 - val_mae: 0.0995\n",
            "Epoch 7/50\n",
            "469/469 [==============================] - 1s 3ms/step - loss: 0.1752 - mae: 0.0937 - val_loss: 0.1696 - val_mae: 0.0893\n",
            "Epoch 8/50\n",
            "469/469 [==============================] - 1s 3ms/step - loss: 0.1753 - mae: 0.0930 - val_loss: 0.1720 - val_mae: 0.0911\n",
            "Epoch 9/50\n",
            "469/469 [==============================] - 1s 3ms/step - loss: 0.1781 - mae: 0.0953 - val_loss: 0.1696 - val_mae: 0.0891\n",
            "Epoch 10/50\n",
            "469/469 [==============================] - 1s 3ms/step - loss: 0.1704 - mae: 0.0898 - val_loss: 0.1731 - val_mae: 0.0930\n",
            "Epoch 11/50\n",
            "469/469 [==============================] - 1s 3ms/step - loss: 0.1710 - mae: 0.0902 - val_loss: 0.1741 - val_mae: 0.0938\n",
            "Epoch 12/50\n",
            "469/469 [==============================] - 1s 3ms/step - loss: 0.1733 - mae: 0.0914 - val_loss: 0.1682 - val_mae: 0.0883\n",
            "Epoch 13/50\n",
            "469/469 [==============================] - 1s 3ms/step - loss: 0.1733 - mae: 0.0910 - val_loss: 0.1744 - val_mae: 0.0927\n",
            "Epoch 14/50\n",
            "469/469 [==============================] - 1s 3ms/step - loss: 0.1730 - mae: 0.0915 - val_loss: 0.1679 - val_mae: 0.0881\n",
            "Epoch 15/50\n",
            "469/469 [==============================] - 1s 3ms/step - loss: 0.1695 - mae: 0.0895 - val_loss: 0.1701 - val_mae: 0.0894\n",
            "Epoch 16/50\n",
            "469/469 [==============================] - 1s 3ms/step - loss: 0.1722 - mae: 0.0912 - val_loss: 0.1714 - val_mae: 0.0902\n",
            "Epoch 17/50\n",
            "469/469 [==============================] - 1s 3ms/step - loss: 0.1839 - mae: 0.0983 - val_loss: 0.1717 - val_mae: 0.0919\n",
            "Epoch 18/50\n",
            "469/469 [==============================] - 1s 3ms/step - loss: 0.1758 - mae: 0.0934 - val_loss: 0.1706 - val_mae: 0.0903\n",
            "Epoch 19/50\n",
            "469/469 [==============================] - 1s 3ms/step - loss: 0.1746 - mae: 0.0933 - val_loss: 0.1701 - val_mae: 0.0895\n",
            "Epoch 20/50\n",
            "469/469 [==============================] - 1s 3ms/step - loss: 0.1732 - mae: 0.0921 - val_loss: 0.1703 - val_mae: 0.0903\n",
            "Epoch 21/50\n",
            "469/469 [==============================] - 1s 3ms/step - loss: 0.1813 - mae: 0.0963 - val_loss: 0.1723 - val_mae: 0.0927\n",
            "Epoch 22/50\n",
            "469/469 [==============================] - 1s 3ms/step - loss: 0.1720 - mae: 0.0910 - val_loss: 0.1710 - val_mae: 0.0914\n",
            "Epoch 23/50\n",
            "469/469 [==============================] - 1s 3ms/step - loss: 0.1775 - mae: 0.0950 - val_loss: 0.1714 - val_mae: 0.0914\n",
            "Epoch 24/50\n",
            "469/469 [==============================] - 1s 3ms/step - loss: 0.1702 - mae: 0.0903 - val_loss: 0.1667 - val_mae: 0.0885\n",
            "Epoch 25/50\n",
            "469/469 [==============================] - 1s 3ms/step - loss: 0.1868 - mae: 0.0996 - val_loss: 0.1767 - val_mae: 0.0955\n",
            "Epoch 26/50\n",
            "469/469 [==============================] - 1s 3ms/step - loss: 0.1733 - mae: 0.0923 - val_loss: 0.1723 - val_mae: 0.0910\n",
            "Epoch 27/50\n",
            "469/469 [==============================] - 1s 3ms/step - loss: 0.1724 - mae: 0.0915 - val_loss: 0.1732 - val_mae: 0.0938\n",
            "Epoch 28/50\n",
            "469/469 [==============================] - 1s 3ms/step - loss: 0.1715 - mae: 0.0905 - val_loss: 0.1731 - val_mae: 0.0918\n",
            "Epoch 29/50\n",
            "469/469 [==============================] - 1s 3ms/step - loss: 0.1722 - mae: 0.0912 - val_loss: 0.1685 - val_mae: 0.0885\n",
            "Epoch 30/50\n",
            "469/469 [==============================] - 1s 3ms/step - loss: 0.1870 - mae: 0.1007 - val_loss: 0.1730 - val_mae: 0.0926\n",
            "Epoch 31/50\n",
            "469/469 [==============================] - 1s 3ms/step - loss: 0.1705 - mae: 0.0903 - val_loss: 0.1675 - val_mae: 0.0876\n",
            "Epoch 32/50\n",
            "469/469 [==============================] - 1s 3ms/step - loss: 0.1754 - mae: 0.0937 - val_loss: 0.2108 - val_mae: 0.1244\n",
            "Epoch 33/50\n",
            "469/469 [==============================] - 1s 3ms/step - loss: 0.1816 - mae: 0.0978 - val_loss: 0.1708 - val_mae: 0.0907\n",
            "Epoch 34/50\n",
            "469/469 [==============================] - 1s 3ms/step - loss: 0.1743 - mae: 0.0923 - val_loss: 0.1681 - val_mae: 0.0877\n",
            "Epoch 35/50\n",
            "469/469 [==============================] - 1s 3ms/step - loss: 0.1670 - mae: 0.0875 - val_loss: 0.1654 - val_mae: 0.0872\n",
            "Epoch 36/50\n",
            "469/469 [==============================] - 1s 3ms/step - loss: 0.1701 - mae: 0.0897 - val_loss: 0.1929 - val_mae: 0.1085\n",
            "Epoch 37/50\n",
            "469/469 [==============================] - 1s 3ms/step - loss: 0.1741 - mae: 0.0926 - val_loss: 0.1690 - val_mae: 0.0893\n",
            "Epoch 38/50\n",
            "469/469 [==============================] - 1s 3ms/step - loss: 0.1669 - mae: 0.0878 - val_loss: 0.1637 - val_mae: 0.0846\n",
            "Epoch 39/50\n",
            "469/469 [==============================] - 1s 3ms/step - loss: 0.1806 - mae: 0.0945 - val_loss: 0.1828 - val_mae: 0.1006\n",
            "Epoch 40/50\n",
            "469/469 [==============================] - 1s 3ms/step - loss: 0.1784 - mae: 0.0962 - val_loss: 0.1696 - val_mae: 0.0895\n",
            "Epoch 41/50\n",
            "469/469 [==============================] - 1s 3ms/step - loss: 0.1725 - mae: 0.0911 - val_loss: 0.1703 - val_mae: 0.0899\n",
            "Epoch 42/50\n",
            "469/469 [==============================] - 1s 3ms/step - loss: 0.1673 - mae: 0.0878 - val_loss: 0.1671 - val_mae: 0.0880\n",
            "Epoch 43/50\n",
            "469/469 [==============================] - 1s 3ms/step - loss: 0.1762 - mae: 0.0936 - val_loss: 0.1855 - val_mae: 0.0965\n",
            "Epoch 44/50\n",
            "469/469 [==============================] - 1s 3ms/step - loss: 0.1754 - mae: 0.0930 - val_loss: 0.1723 - val_mae: 0.0894\n",
            "Epoch 45/50\n",
            "469/469 [==============================] - 1s 3ms/step - loss: 0.1851 - mae: 0.0990 - val_loss: 0.1784 - val_mae: 0.0953\n",
            "Epoch 46/50\n",
            "469/469 [==============================] - 1s 3ms/step - loss: 0.1780 - mae: 0.0951 - val_loss: 0.1704 - val_mae: 0.0904\n",
            "Epoch 47/50\n",
            "469/469 [==============================] - 1s 3ms/step - loss: 0.1704 - mae: 0.0900 - val_loss: 0.1670 - val_mae: 0.0880\n",
            "Epoch 48/50\n",
            "469/469 [==============================] - 1s 3ms/step - loss: 0.1764 - mae: 0.0938 - val_loss: 0.1696 - val_mae: 0.0898\n",
            "Epoch 49/50\n",
            "469/469 [==============================] - 1s 3ms/step - loss: 0.1751 - mae: 0.0926 - val_loss: 0.1734 - val_mae: 0.0937\n",
            "Epoch 50/50\n",
            "469/469 [==============================] - 1s 3ms/step - loss: 0.1719 - mae: 0.0911 - val_loss: 0.1747 - val_mae: 0.0928\n"
          ]
        }
      ],
      "source": [
        "AE.fit(\n",
        "    x=train_data,\n",
        "    y=train_data,\n",
        "    epochs=50,\n",
        "    batch_size=128,\n",
        "    shuffle=True,\n",
        "    validation_data=(test_data, test_data),\n",
        ")"
      ]
    },
    {
      "cell_type": "markdown",
      "metadata": {
        "id": "TwwNYm9wmrGb"
      },
      "source": [
        "##Avaliação\n",
        "O método ```predict``` é usado para fazer previsões com um modelo de rede neural previamente treinado. Ele permite que você forneça dados de entrada ao modelo e obtenha previsões correspondentes como saída."
      ]
    },
    {
      "cell_type": "code",
      "execution_count": null,
      "metadata": {
        "id": "mCvN-7cklH7E",
        "outputId": "3d09052e-59e6-4e95-95e9-cbe119a90993"
      },
      "outputs": [
        {
          "name": "stdout",
          "output_type": "stream",
          "text": [
            "313/313 [==============================] - 0s 901us/step\n"
          ]
        }
      ],
      "source": [
        "resultado = AE.predict(test_data)"
      ]
    },
    {
      "cell_type": "code",
      "execution_count": null,
      "metadata": {
        "id": "KdikWg-iWNVj",
        "outputId": "e206f939-329b-4c97-b715-69b70a882cf6"
      },
      "outputs": [
        {
          "data": {
            "image/png": "[encoded data removed]",
            "text/plain": [
              "<Figure size 1000x400 with 5 Axes>"
            ]
          },
          "metadata": {},
          "output_type": "display_data"
        },
        {
          "data": {
            "image/png": "[encoded data removed]",
            "text/plain": [
              "<Figure size 1000x400 with 5 Axes>"
            ]
          },
          "metadata": {},
          "output_type": "display_data"
        }
      ],
      "source": [
        "display([test_data, resultado],mostra_imagens)"
      ]
    },
    {
      "cell_type": "markdown",
      "metadata": {
        "id": "4qnlDceWQwbE"
      },
      "source": [
        "##Código\n",
        "Vamos observar como é o código que o AutoEncoder aprendeu através da extração de caracteristicas durante o treinamento."
      ]
    },
    {
      "cell_type": "markdown",
      "metadata": {
        "id": "CfwHaEQYQwbE"
      },
      "source": [
        "O código se concentra na camada de cor laranja desta imagem:<br>\n",
        "<img src=\"https://miro.medium.com/v2/resize:fit:1200/1*44eDEuZBEsmG_TCAKRI3Kw@2x.png\">"
      ]
    },
    {
      "cell_type": "markdown",
      "metadata": {
        "id": "h44AJ1lnQwbF"
      },
      "source": [
        "Primeiramente, vamos converter em um DataFrame para organizar os dados"
      ]
    },
    {
      "cell_type": "code",
      "execution_count": null,
      "metadata": {
        "id": "e1j5OWntQwbF",
        "outputId": "6a5c6dd2-2cc4-41bf-c494-39ca283b768e"
      },
      "outputs": [
        {
          "name": "stdout",
          "output_type": "stream",
          "text": [
            "16/16 [==============================] - 0s 669us/step\n"
          ]
        }
      ],
      "source": [
        "import pandas as pd\n",
        "infos = {_:[] for _ in range(z)}\n",
        "infos['label'] = []\n",
        "\n",
        "qt_dados = 512\n",
        "\n",
        "for valor,label in zip(AE.codigo(test_data[:qt_dados]),test_label[:qt_dados]):\n",
        "    for i,v in enumerate(valor):\n",
        "        infos[i].append(v)\n",
        "    infos['label'].append(label)\n",
        "\n",
        "valores = pd.DataFrame(infos)"
      ]
    },
    {
      "cell_type": "markdown",
      "metadata": {
        "id": "wzYeeuHzQwbF"
      },
      "source": [
        "Vamos apresentar os dados em alguns ```Scatter Plots```"
      ]
    },
    {
      "cell_type": "code",
      "execution_count": null,
      "metadata": {
        "id": "R8KupNSIQwbF",
        "outputId": "239e7d0e-88a0-41c0-d3c1-9c4b3822052e"
      },
      "outputs": [
        {
          "name": "stderr",
          "output_type": "stream",
          "text": [
            "c:\\Users\\Guilherme\\anaconda3\\envs\\ml\\lib\\site-packages\\plotly\\express\\_core.py:279: FutureWarning:\n",
            "\n",
            "iteritems is deprecated and will be removed in a future version. Use .items instead.\n",
            "\n"
          ]
        },
        {
          "data": {
            "application/vnd.plotly.v1+json": {
              "config": {
                "plotlyServerURL": "https://plot.ly"
              },
              "data": [
                {
                  "dimensions": [
                    {
                      "axis": {
                        "matches": true
                      },
                      "label": "0",
                      "values": [
                        0.015759415924549103,
                        0,
                        0.2119213193655014,
                        0,
                        0,
                        0.034975435584783554,
                        0,
                        0,
                        0,
                        0.3600579500198364,
                        0.1716359555721283,
                        0.7389651536941528,
                        0.42947912216186523,
                        0.18123957514762878,
                        0.26310837268829346,
                        0.28513607382774353,
                        0.2849141061306,
                        0.13717776536941528,
                        0.2746608257293701,
                        0.09058162569999695,
                        0.0009929612278938293,
                        0.20072099566459656,
                        0.039284393191337585,
                        0.1456492692232132,
                        0.534578800201416,
                        0.07855239510536194,
                        0.16044093668460846,
                        0.15589484572410583,
                        0.07332757115364075,
                        0.05860566347837448,
                        0.18932941555976868,
                        0,
                        0.1840118020772934,
                        0.3383423089981079,
                        0.38022440671920776,
                        0.3948931097984314,
                        0.3413550853729248,
                        0.05649745464324951,
                        0.2502281367778778,
                        0.10105371475219727,
                        0.09709004312753677,
                        0.06414316594600677,
                        0.29275161027908325,
                        0.3185219466686249,
                        0.501326858997345,
                        0.28745684027671814,
                        0.02077273651957512,
                        0,
                        0.0021039769053459167,
                        0.010760847479104996
                      ]
                    },
                    {
                      "axis": {
                        "matches": true
                      },
                      "label": "1",
                      "values": [
                        0,
                        0.13744595646858215,
                        0.12752193212509155,
                        0.10456618666648865,
                        0.20873717963695526,
                        0.1175815612077713,
                        0.46163710951805115,
                        0.018816694617271423,
                        0.0644875019788742,
                        0.15618865191936493,
                        0.1230170875787735,
                        0.3494704067707062,
                        0.10797072947025299,
                        0.11349736154079437,
                        0.3864690065383911,
                        0.2799290418624878,
                        0.3503154218196869,
                        0.3072569966316223,
                        0.07855916768312454,
                        0.509630024433136,
                        0.15186861157417297,
                        0.03095153346657753,
                        0.19575461745262146,
                        0.06981024146080017,
                        0.2503979206085205,
                        0.000518210232257843,
                        0,
                        0.1717512607574463,
                        0.2550007104873657,
                        0.06774779409170151,
                        0.3718090355396271,
                        0.046877797693014145,
                        0.04075618088245392,
                        0.4576701819896698,
                        0.6324052810668945,
                        0.25030413269996643,
                        0.3048931658267975,
                        0.16120494902133942,
                        0.3523235619068146,
                        0.3070913255214691,
                        0,
                        0.09683911502361298,
                        0.16120029985904694,
                        0.2467661201953888,
                        0.049191057682037354,
                        0,
                        0.0711149275302887,
                        0.36943942308425903,
                        0.14453279972076416,
                        0.16347327828407288
                      ]
                    },
                    {
                      "axis": {
                        "matches": true
                      },
                      "label": "2",
                      "values": [
                        1.1428509950637817,
                        1.1052064895629883,
                        0.9434542655944824,
                        0.7989630699157715,
                        1.1105153560638428,
                        0.9375677108764648,
                        1.3639003038406372,
                        0.7233582735061646,
                        1.0380046367645264,
                        1.0966228246688843,
                        0.9211330413818359,
                        1.3489019870758057,
                        1.2864118814468384,
                        1.1313894987106323,
                        0.8834249973297119,
                        1.0047966241836548,
                        0.8698599338531494,
                        1.2622610330581665,
                        1.3295875787734985,
                        0.7293318510055542,
                        1.1573346853256226,
                        0.6853859424591064,
                        0.5477138757705688,
                        0.9545372724533081,
                        1.536940336227417,
                        1.0680618286132812,
                        1.135542631149292,
                        1.2409660816192627,
                        0.8345543146133423,
                        1.3424676656723022,
                        1.3905678987503052,
                        1.3537665605545044,
                        1.452816128730774,
                        0.886100172996521,
                        1.0193798542022705,
                        1.049834966659546,
                        0.9242053031921387,
                        1.1709134578704834,
                        1.094652771949768,
                        1.4829516410827637,
                        1.2286714315414429,
                        1.4119555950164795,
                        1.2182276248931885,
                        1.4725842475891113,
                        1.3982335329055786,
                        1.1755506992340088,
                        0.45060640573501587,
                        1.2192672491073608,
                        1.294846773147583,
                        0.6397747993469238
                      ]
                    },
                    {
                      "axis": {
                        "matches": true
                      },
                      "label": "3",
                      "values": [
                        0.5904651880264282,
                        0.6137305498123169,
                        0.06539160013198853,
                        1.092275619506836,
                        0.41991156339645386,
                        0.2865728735923767,
                        0.21391628682613373,
                        1.0198462009429932,
                        0.6995213031768799,
                        0.48606887459754944,
                        1.2030826807022095,
                        0.03615739941596985,
                        0.12243372201919556,
                        0.7005758285522461,
                        0.5107400417327881,
                        0.4688222408294678,
                        0.26682013273239136,
                        0,
                        0.6279772520065308,
                        0.535038411617279,
                        0.15317299962043762,
                        0.6722196340560913,
                        1.0543956756591797,
                        0.1847120225429535,
                        0.33978331089019775,
                        0.8346548080444336,
                        0.2438116818666458,
                        0.3335822820663452,
                        0.24188239872455597,
                        0.21309462189674377,
                        0.2453707605600357,
                        0,
                        0.39205649495124817,
                        0.424655020236969,
                        0.41944462060928345,
                        0.4820682406425476,
                        0.5198192596435547,
                        0.4793333113193512,
                        0.04541846737265587,
                        0,
                        0.22779712080955505,
                        0.12210620939731598,
                        0.4741031229496002,
                        0.7367901802062988,
                        0.37266436219215393,
                        0.4415859878063202,
                        1.11600661277771,
                        0.17043016850948334,
                        0.7761638164520264,
                        0.9230049848556519
                      ]
                    },
                    {
                      "axis": {
                        "matches": true
                      },
                      "label": "4",
                      "values": [
                        0.5370135307312012,
                        0.40934473276138306,
                        0.14123985171318054,
                        1.057525634765625,
                        0.3179081678390503,
                        0.5958967208862305,
                        0.1252722144126892,
                        0.5914000272750854,
                        0.3334309756755829,
                        0.4641125798225403,
                        0.7737386226654053,
                        0.4193604290485382,
                        0.30625444650650024,
                        0.9731733798980713,
                        0.6560385227203369,
                        1.2299326658248901,
                        0.7695620059967041,
                        0.5546469688415527,
                        0.4269663095474243,
                        0.4767686724662781,
                        0.12920600175857544,
                        0.5955686569213867,
                        1.103978157043457,
                        0.9187276363372803,
                        0.28253185749053955,
                        0.8353075981140137,
                        0.7164503335952759,
                        0.8351259231567383,
                        0.2876570522785187,
                        0.5023956298828125,
                        0.8354107141494751,
                        0.3108678162097931,
                        0.8196477890014648,
                        0.9626398086547852,
                        0.5043950080871582,
                        0.730952262878418,
                        0.7358859777450562,
                        0.5193473100662231,
                        0.3812980651855469,
                        0.5701278448104858,
                        0.6314599514007568,
                        0.18704809248447418,
                        1.133080005645752,
                        0.3721572160720825,
                        0.38931339979171753,
                        0.4485388696193695,
                        0.8407207727432251,
                        0.11680582910776138,
                        0.6247491240501404,
                        0.770262598991394
                      ]
                    }
                  ],
                  "hovertemplate": "label=7<br>%{xaxis.title.text}=%{x}<br>%{yaxis.title.text}=%{y}<extra></extra>",
                  "legendgroup": "7",
                  "marker": {
                    "color": "#636efa",
                    "symbol": "circle"
                  },
                  "name": "7",
                  "showlegend": true,
                  "type": "splom"
                },
                {
                  "dimensions": [
                    {
                      "axis": {
                        "matches": true
                      },
                      "label": "0",
                      "values": [
                        0.31885942816734314,
                        0,
                        0.0975465327501297,
                        0.21768131852149963,
                        0.05068542808294296,
                        0,
                        0,
                        0,
                        0,
                        0.3091234862804413,
                        0.03233960643410683,
                        0.26422229409217834,
                        0,
                        0.12812072038650513,
                        0.08305375277996063,
                        0.08436094224452972,
                        0,
                        0.27867332100868225,
                        0.28511932492256165,
                        0,
                        0,
                        0.044766154140233994,
                        0,
                        0.06555996835231781,
                        0,
                        0.14324896037578583,
                        0,
                        0.31891441345214844,
                        0,
                        0.12840069830417633,
                        0.31201714277267456,
                        0,
                        0,
                        0,
                        0.19400866329669952,
                        0.07268049567937851,
                        0.3415733277797699,
                        0,
                        0,
                        0.045807477086782455,
                        0.24782215058803558,
                        0,
                        0.167951762676239,
                        0.06171880289912224,
                        0.19693689048290253,
                        0,
                        0,
                        0,
                        0,
                        0,
                        0,
                        0,
                        0,
                        0,
                        0,
                        0
                      ]
                    },
                    {
                      "axis": {
                        "matches": true
                      },
                      "label": "1",
                      "values": [
                        1.101980209350586,
                        0.6074323654174805,
                        0.7392633557319641,
                        0.10895523428916931,
                        0.45854565501213074,
                        0.9805837273597717,
                        0.3496425449848175,
                        0.5945529341697693,
                        0.6752230525016785,
                        0.5373454689979553,
                        0.5812472105026245,
                        0.325467586517334,
                        0.8992763161659241,
                        0.6641464233398438,
                        1.1282153129577637,
                        0.7630288004875183,
                        0.44028109312057495,
                        0.9769378900527954,
                        0.8087419271469116,
                        0.7878782153129578,
                        0.8018509745597839,
                        0.4172172248363495,
                        0.6008903384208679,
                        0.49450889229774475,
                        0.7022911310195923,
                        0.824675977230072,
                        0.6489818692207336,
                        0.7539973855018616,
                        0.8238031268119812,
                        0.8808391690254211,
                        0.7569538950920105,
                        0.6545813083648682,
                        0.3810005187988281,
                        0.7165461778640747,
                        0.9550061821937561,
                        0.4194553792476654,
                        0.5903403162956238,
                        0.6639705896377563,
                        0.5376983284950256,
                        0.795947790145874,
                        0.9530849456787109,
                        0.4860662817955017,
                        0.47947633266448975,
                        0.4320693612098694,
                        0.5574761033058167,
                        0.4747994840145111,
                        0.5817586183547974,
                        0.6527201533317566,
                        0.7322170734405518,
                        0.4875238835811615,
                        0.690375566482544,
                        0.5324357151985168,
                        0.6487564444541931,
                        0.5370635986328125,
                        0.4822308421134949,
                        0.8751818537712097
                      ]
                    },
                    {
                      "axis": {
                        "matches": true
                      },
                      "label": "2",
                      "values": [
                        0.35202276706695557,
                        0.10138425976037979,
                        0.4523201584815979,
                        0,
                        0.07169368863105774,
                        0.2530233860015869,
                        0.49378708004951477,
                        0,
                        0.10075166821479797,
                        0.7037410736083984,
                        0,
                        0.2741539478302002,
                        0.16534587740898132,
                        0.4287106692790985,
                        0.494689017534256,
                        0.24052493274211884,
                        0,
                        0.4960484802722931,
                        0.31761878728866577,
                        0.4425501823425293,
                        0.5775890350341797,
                        0,
                        0.5307762622833252,
                        0.2488589733839035,
                        0.43715059757232666,
                        0.1333627551794052,
                        0.2996158003807068,
                        0.226154163479805,
                        0.3031313419342041,
                        0.1566181182861328,
                        0.35367149114608765,
                        0,
                        0.30835846066474915,
                        0.19420327246189117,
                        0.3974837064743042,
                        1.0000354051589966,
                        0.023876488208770752,
                        0.4473189115524292,
                        1.0907522439956665,
                        0.47326672077178955,
                        0.40980058908462524,
                        0.3366238474845886,
                        0.037016965448856354,
                        0,
                        0.022104203701019287,
                        0.4586498439311981,
                        0.05923750251531601,
                        0.15471135079860687,
                        0.39789921045303345,
                        0.42986834049224854,
                        0.413948118686676,
                        0.7842931747436523,
                        0.6523194313049316,
                        0,
                        0,
                        0.11617026478052139
                      ]
                    },
                    {
                      "axis": {
                        "matches": true
                      },
                      "label": "3",
                      "values": [
                        0.18994224071502686,
                        0.7759981155395508,
                        0.49222511053085327,
                        0.052919138222932816,
                        0,
                        0.8147814273834229,
                        0.26599299907684326,
                        0.4051867723464966,
                        0.8114336729049683,
                        0.7214499711990356,
                        0.6639748811721802,
                        0,
                        0.7520451545715332,
                        0.3757512867450714,
                        0.695737361907959,
                        0.8361495733261108,
                        0.13705600798130035,
                        0.531596302986145,
                        0.6110002994537354,
                        0.9740068912506104,
                        0.10461370646953583,
                        0.01729341596364975,
                        0.248351588845253,
                        0.1494245082139969,
                        0.5587096214294434,
                        0.3097194731235504,
                        0.5856870412826538,
                        0.33156898617744446,
                        0.07626581192016602,
                        0.6426559686660767,
                        0.0710415244102478,
                        0.36569058895111084,
                        0.14469316601753235,
                        0.20241312682628632,
                        0.7875981330871582,
                        0.7490423917770386,
                        0,
                        0.3682252764701843,
                        0.6704678535461426,
                        0,
                        0.02553178369998932,
                        0,
                        0.3611539602279663,
                        0.26199519634246826,
                        0.9332982301712036,
                        0.7179989814758301,
                        0.45233574509620667,
                        1.0118094682693481,
                        0.1437128633260727,
                        1.1032514572143555,
                        0.20705866813659668,
                        0.459181547164917,
                        0.3920181691646576,
                        0.5675991773605347,
                        0.8225656747817993,
                        0.6215062141418457
                      ]
                    },
                    {
                      "axis": {
                        "matches": true
                      },
                      "label": "4",
                      "values": [
                        0.7682434320449829,
                        0.617539644241333,
                        0.9151619672775269,
                        0.6567999124526978,
                        0.45527055859565735,
                        0.6615848541259766,
                        0.4243624806404114,
                        0.7403603792190552,
                        0.6082714200019836,
                        0.5203847289085388,
                        0.562646210193634,
                        0.2325417697429657,
                        0.9176568984985352,
                        0.7803852558135986,
                        1.1004124879837036,
                        1.0114247798919678,
                        0.6094894409179688,
                        0.5799292922019958,
                        0.305705726146698,
                        0.8507301807403564,
                        0.7989778518676758,
                        0.7348548173904419,
                        0.9406332969665527,
                        0.9181045293807983,
                        1.1043792963027954,
                        0.464126318693161,
                        0.5281270742416382,
                        0.9252759218215942,
                        0.7339757680892944,
                        0.9188259840011597,
                        0.5509505271911621,
                        0.524822473526001,
                        0.31238436698913574,
                        0.898206353187561,
                        0.522588849067688,
                        1.0150947570800781,
                        0.820497989654541,
                        1.0003809928894043,
                        0.4526059031486511,
                        0.9268440008163452,
                        0.7590521574020386,
                        0.5108757019042969,
                        0.19702716171741486,
                        0.7501177787780762,
                        0.727141261100769,
                        0.9433705806732178,
                        0.7661172151565552,
                        0.757659912109375,
                        0.7645183801651001,
                        0.9377565383911133,
                        0.9415130615234375,
                        1.0017008781433105,
                        0.7655425071716309,
                        0.8642659187316895,
                        0.8767894506454468,
                        0.589452862739563
                      ]
                    }
                  ],
                  "hovertemplate": "label=2<br>%{xaxis.title.text}=%{x}<br>%{yaxis.title.text}=%{y}<extra></extra>",
                  "legendgroup": "2",
                  "marker": {
                    "color": "#EF553B",
                    "symbol": "circle"
                  },
                  "name": "2",
                  "showlegend": true,
                  "type": "splom"
                },
                {
                  "dimensions": [
                    {
                      "axis": {
                        "matches": true
                      },
                      "label": "0",
                      "values": [
                        0.4025629758834839,
                        0.5164718627929688,
                        0.5519285798072815,
                        0.5966574549674988,
                        0.43944400548934937,
                        0.5287120342254639,
                        0.8462486863136292,
                        0.39713215827941895,
                        0.47387316823005676,
                        0.4160420894622803,
                        0.6233396530151367,
                        0.6078926920890808,
                        0.7512860894203186,
                        0.4123600125312805,
                        0.6438959836959839,
                        0.7142952680587769,
                        0.7073381543159485,
                        0.4974786043167114,
                        0.5069518685340881,
                        0.5195305943489075,
                        0.5938228964805603,
                        0.4283677339553833,
                        0.6256699562072754,
                        0.5763419270515442,
                        0.4092736542224884,
                        0.631691575050354,
                        0.4868079423904419,
                        0.7848091125488281,
                        0.3489997088909149,
                        0.5508753061294556,
                        0.44063714146614075,
                        0.23570938408374786,
                        0.4094248414039612,
                        0.6138264536857605,
                        0.5432944297790527,
                        0.5764784216880798,
                        0.6455990076065063,
                        0.5585794448852539,
                        0.5769733786582947,
                        0.5129649639129639,
                        0.8421982526779175,
                        0.5625277161598206,
                        0.6410010457038879,
                        0.6473115682601929,
                        0.6072142124176025,
                        0.6047044992446899,
                        0.6080663800239563,
                        0.6781148314476013,
                        0.6894754767417908,
                        0.5647553205490112,
                        0.17278365790843964,
                        0.4912468492984772,
                        0.4497526288032532,
                        0.5478305220603943,
                        0.5467280745506287,
                        0.3044212758541107,
                        0.49802011251449585,
                        0.7148945331573486,
                        0.7070053815841675,
                        0.5253536105155945,
                        0.5347586274147034,
                        0.6766608953475952,
                        0.5670985579490662,
                        0.4428389370441437,
                        0.5633438229560852,
                        0.477011501789093,
                        0.46669864654541016,
                        0.49713826179504395,
                        0.3958231806755066
                      ]
                    },
                    {
                      "axis": {
                        "matches": true
                      },
                      "label": "1",
                      "values": [
                        0.10180705785751343,
                        0.14154358208179474,
                        0.4950220286846161,
                        0.5608623027801514,
                        0.4040702283382416,
                        0.44105276465415955,
                        0.5181035995483398,
                        0.24838383495807648,
                        0.7223737835884094,
                        0.13555796444416046,
                        0.40973109006881714,
                        0.21441766619682312,
                        0.8244482278823853,
                        0.3949280381202698,
                        0.21121981739997864,
                        0.522354781627655,
                        0.34767627716064453,
                        0.2919442355632782,
                        0.4634714722633362,
                        0.316304475069046,
                        0.5113434791564941,
                        0.2733129560947418,
                        0.33802762627601624,
                        0.27983471751213074,
                        0.4120115637779236,
                        0.22760768234729767,
                        0.4890361428260803,
                        0.5710540413856506,
                        0.06088268756866455,
                        0.2732223868370056,
                        0.11106878519058228,
                        0.008042335510253906,
                        0.18710272014141083,
                        0.3691558241844177,
                        0.43114224076271057,
                        0.5362992882728577,
                        0.4254658818244934,
                        0.32848891615867615,
                        0.427033007144928,
                        0.29694774746894836,
                        0.2857097387313843,
                        0.44460126757621765,
                        0.4606894850730896,
                        0.42252424359321594,
                        0.3282735347747803,
                        0.2960209250450134,
                        0.2847972512245178,
                        0.4469614028930664,
                        0.3417620062828064,
                        0.5590121746063232,
                        0,
                        0.15464410185813904,
                        0.20202212035655975,
                        0.2939952313899994,
                        0.23416480422019958,
                        0.035165466368198395,
                        0.23311035335063934,
                        0.40612533688545227,
                        0.42228731513023376,
                        0.3785078227519989,
                        0.3381049335002899,
                        0.33505386114120483,
                        0.26768895983695984,
                        0.29014596343040466,
                        0.43342098593711853,
                        0.09061269462108612,
                        0.14763551950454712,
                        0.15137067437171936,
                        0.08464738726615906
                      ]
                    },
                    {
                      "axis": {
                        "matches": true
                      },
                      "label": "2",
                      "values": [
                        0.5937144756317139,
                        0.7562026977539062,
                        1.0658234357833862,
                        1.1678917407989502,
                        1.0407094955444336,
                        1.2221672534942627,
                        0.9789366722106934,
                        0.8758070468902588,
                        1.140890121459961,
                        0.7287869453430176,
                        1.1318920850753784,
                        0.5794103145599365,
                        1.132462739944458,
                        1.112748622894287,
                        0.37230929732322693,
                        1.0037544965744019,
                        0.5413603186607361,
                        0.7765387296676636,
                        1.08747398853302,
                        1.0460940599441528,
                        1.0414390563964844,
                        0.7638425827026367,
                        1.0261980295181274,
                        1.1244341135025024,
                        0.9769730567932129,
                        0.7195519208908081,
                        1.0799541473388672,
                        0.9638214111328125,
                        0.477505624294281,
                        1.051331877708435,
                        0.6173001527786255,
                        0.45286405086517334,
                        0.5271293520927429,
                        1.0915141105651855,
                        1.0123802423477173,
                        1.0694230794906616,
                        1.037025809288025,
                        1.0852011442184448,
                        0.902051568031311,
                        0.9985731840133667,
                        0.920762300491333,
                        1.0205676555633545,
                        1.101802110671997,
                        0.9808515310287476,
                        1.0613542795181274,
                        0.9909021854400635,
                        1.0643335580825806,
                        1.148841381072998,
                        0.7665660381317139,
                        1.1541764736175537,
                        0.18082454800605774,
                        0.8947986364364624,
                        0.9710711240768433,
                        0.9759721755981445,
                        0.7994521856307983,
                        0.3750300109386444,
                        1.0401548147201538,
                        1.1536707878112793,
                        0.945712685585022,
                        1.0043548345565796,
                        1.0338793992996216,
                        0.7698419094085693,
                        0.7137340307235718,
                        0.9610705375671387,
                        0.9877285957336426,
                        0.5752453804016113,
                        0.7620608806610107,
                        0.8997087478637695,
                        0.5055199861526489
                      ]
                    },
                    {
                      "axis": {
                        "matches": true
                      },
                      "label": "3",
                      "values": [
                        0.07978086173534393,
                        0.18818193674087524,
                        0.07370780408382416,
                        0.028978407382965088,
                        0.005872771143913269,
                        0.09450297057628632,
                        0.29777252674102783,
                        0,
                        0,
                        0.10159249603748322,
                        0.19790296256542206,
                        0.25618723034858704,
                        0.0791814923286438,
                        0,
                        0.2227165549993515,
                        0.19804273545742035,
                        0.45524030923843384,
                        0.13862492144107819,
                        0.0373922735452652,
                        0.0254213809967041,
                        0.0663919597864151,
                        0.014391742646694183,
                        0.07819171249866486,
                        0.13315528631210327,
                        0,
                        0.4557470977306366,
                        0,
                        0.21826419234275818,
                        0.2922194004058838,
                        0.11253506690263748,
                        0.06161264330148697,
                        0.07622899115085602,
                        0.208244189620018,
                        0.0077922046184539795,
                        0.04764413461089134,
                        0.08256125450134277,
                        0.04452095925807953,
                        0.06493724882602692,
                        0.19976425170898438,
                        0,
                        0.368561327457428,
                        0,
                        0.036671653389930725,
                        0.09540533274412155,
                        0.054918479174375534,
                        0.04487534612417221,
                        0.07487944513559341,
                        0.11126132309436798,
                        0.21853497624397278,
                        0,
                        0.33196234703063965,
                        0.05748463422060013,
                        0.1286177784204483,
                        0,
                        0.0234270840883255,
                        0.23594310879707336,
                        0.20035097002983093,
                        0.16574124991893768,
                        0.17639246582984924,
                        0.05158321559429169,
                        0.043409738689661026,
                        0.13329055905342102,
                        0.1554957628250122,
                        0,
                        0.11669895797967911,
                        0.10600221157073975,
                        0.10288283228874207,
                        0,
                        0.27855372428894043
                      ]
                    },
                    {
                      "axis": {
                        "matches": true
                      },
                      "label": "4",
                      "values": [
                        1.1784178018569946,
                        1.3171486854553223,
                        1.2919687032699585,
                        1.0651077032089233,
                        0.8885911703109741,
                        1.1178582906723022,
                        1.2476699352264404,
                        1.0483450889587402,
                        0.8255374431610107,
                        1.2411826848983765,
                        1.1825647354125977,
                        1.2615106105804443,
                        1.0835051536560059,
                        0.7684704065322876,
                        1.1766915321350098,
                        1.2181205749511719,
                        1.4134681224822998,
                        1.2499632835388184,
                        1.021668553352356,
                        1.0383641719818115,
                        1.0938762426376343,
                        1.0233159065246582,
                        1.1931771039962769,
                        1.1492849588394165,
                        0.8100974559783936,
                        1.3090522289276123,
                        0.7743815183639526,
                        1.1963845491409302,
                        1.2157630920410156,
                        1.0378059148788452,
                        1.1933073997497559,
                        1.0321555137634277,
                        1.3099406957626343,
                        1.1115583181381226,
                        0.9071977138519287,
                        1.1841298341751099,
                        1.187085747718811,
                        1.0863302946090698,
                        1.3281848430633545,
                        1.0471779108047485,
                        1.3244681358337402,
                        1.0844993591308594,
                        1.1958733797073364,
                        1.1857210397720337,
                        1.155328631401062,
                        1.2280267477035522,
                        1.1668288707733154,
                        1.2299206256866455,
                        1.3192226886749268,
                        1.0037081241607666,
                        1.0192078351974487,
                        0.9589194059371948,
                        1.2038012742996216,
                        1.170305848121643,
                        1.1179813146591187,
                        1.1501946449279785,
                        1.2512959241867065,
                        1.1271567344665527,
                        1.2743576765060425,
                        1.0626152753829956,
                        1.0621122121810913,
                        1.2642467021942139,
                        1.343833088874817,
                        1.018295407295227,
                        1.1814706325531006,
                        1.1924583911895752,
                        1.2198572158813477,
                        1.0560349225997925,
                        1.2226011753082275
                      ]
                    }
                  ],
                  "hovertemplate": "label=1<br>%{xaxis.title.text}=%{x}<br>%{yaxis.title.text}=%{y}<extra></extra>",
                  "legendgroup": "1",
                  "marker": {
                    "color": "#00cc96",
                    "symbol": "circle"
                  },
                  "name": "1",
                  "showlegend": true,
                  "type": "splom"
                },
                {
                  "dimensions": [
                    {
                      "axis": {
                        "matches": true
                      },
                      "label": "0",
                      "values": [
                        0.8848511576652527,
                        0.40923213958740234,
                        0.6249056458473206,
                        0.6972609758377075,
                        0.7120183706283569,
                        0.7796909809112549,
                        0.40446263551712036,
                        0.5704070925712585,
                        0.6047053337097168,
                        0.16635948419570923,
                        0.6891657114028931,
                        0.8035158514976501,
                        0.7611091136932373,
                        0.49770745635032654,
                        0.7450109720230103,
                        0.6733128428459167,
                        0.5163260102272034,
                        0.7175737619400024,
                        0.24533575773239136,
                        0.2844216823577881,
                        0.777795672416687,
                        0.5295075178146362,
                        0.6011104583740234,
                        0.3296085298061371,
                        0.1109841912984848,
                        0.7563198208808899,
                        0.8153367638587952,
                        0.4926576018333435,
                        0.8065410852432251,
                        0.7998902201652527,
                        0.7295136451721191,
                        0.23908504843711853,
                        0.19483938813209534,
                        0.5369102954864502,
                        0.4243756830692291,
                        0.6462395191192627,
                        0.922441840171814,
                        0.5976883172988892,
                        0.541959822177887,
                        0.6710994839668274,
                        0.6067870259284973,
                        0.7557950019836426
                      ]
                    },
                    {
                      "axis": {
                        "matches": true
                      },
                      "label": "1",
                      "values": [
                        0.8828279972076416,
                        0.9376940727233887,
                        0.8736138939857483,
                        0.74659663438797,
                        1.0071717500686646,
                        0.9380673766136169,
                        0.5270321369171143,
                        1.0982385873794556,
                        0.8394123315811157,
                        0.8926407694816589,
                        0.8595435619354248,
                        0.8313780426979065,
                        0.8209273815155029,
                        0.83660888671875,
                        0.7847781777381897,
                        0.4169590175151825,
                        0.864177942276001,
                        0.7031825184822083,
                        1.0862821340560913,
                        0.48625192046165466,
                        0.9230953454971313,
                        0.916894257068634,
                        1.0005735158920288,
                        0.6678903698921204,
                        0.7920712828636169,
                        1.1245230436325073,
                        0.7512434720993042,
                        0.8279913663864136,
                        0.7637195587158203,
                        0.643963634967804,
                        0.6068560481071472,
                        1.0542017221450806,
                        0.7916606664657593,
                        1.0166194438934326,
                        0.9819985032081604,
                        0.9912782311439514,
                        0.8029829263687134,
                        0.49307501316070557,
                        1.051320195198059,
                        0.7470589876174927,
                        0.20892448723316193,
                        0.5478760600090027
                      ]
                    },
                    {
                      "axis": {
                        "matches": true
                      },
                      "label": "2",
                      "values": [
                        0.5039654970169067,
                        0.4021545648574829,
                        0.654621958732605,
                        0.1821286976337433,
                        0.6821744441986084,
                        0.8196630477905273,
                        0.039768464863300323,
                        0.36525771021842957,
                        0.501286506652832,
                        0.34332355856895447,
                        0.691769003868103,
                        0.4760342538356781,
                        0.6356209516525269,
                        0.18912705779075623,
                        0.47103995084762573,
                        0,
                        0.681975245475769,
                        0.5918176174163818,
                        0.380601167678833,
                        0.0327322781085968,
                        0.6101102828979492,
                        0.629665732383728,
                        0.09503893554210663,
                        0.175190269947052,
                        0.4700103998184204,
                        0.5240646600723267,
                        0.5306037664413452,
                        0.664104700088501,
                        0.45904919505119324,
                        0.6844701766967773,
                        0.5423814654350281,
                        0.6469533443450928,
                        0.23731422424316406,
                        0.5744848251342773,
                        0.5287042856216431,
                        0.49224114418029785,
                        0.5317068099975586,
                        0.6489347219467163,
                        0.61013263463974,
                        0.5056241154670715,
                        0,
                        0.6576685905456543
                      ]
                    },
                    {
                      "axis": {
                        "matches": true
                      },
                      "label": "3",
                      "values": [
                        0.8272883892059326,
                        1.1226016283035278,
                        0.9739744663238525,
                        1.2017990350723267,
                        1.0700342655181885,
                        0.9841791391372681,
                        0.8025115728378296,
                        1.2036168575286865,
                        1.0620322227478027,
                        0.7567011117935181,
                        0.7778322696685791,
                        0.7476602792739868,
                        0.6566705703735352,
                        1.311672568321228,
                        1.368126392364502,
                        1.0406140089035034,
                        1.1005401611328125,
                        0.8934540748596191,
                        0.9213919639587402,
                        0.7150603532791138,
                        0.7945990562438965,
                        1.0046489238739014,
                        1.3842625617980957,
                        0.8978873491287231,
                        1.0410503149032593,
                        0.9428608417510986,
                        0.8598090410232544,
                        0.45433157682418823,
                        1.1656421422958374,
                        0.8651427030563354,
                        0.7985289096832275,
                        0.6445729732513428,
                        0.8786786794662476,
                        1.1948034763336182,
                        0.8842207193374634,
                        1.4140000343322754,
                        0.775909423828125,
                        0.49182456731796265,
                        0.8495596647262573,
                        0.8535313606262207,
                        0.43238145112991333,
                        0.7684272527694702
                      ]
                    },
                    {
                      "axis": {
                        "matches": true
                      },
                      "label": "4",
                      "values": [
                        0.49886512756347656,
                        0.3756796717643738,
                        0.3928821384906769,
                        0.1795521229505539,
                        0.6744285821914673,
                        0.853590726852417,
                        0,
                        0.22792088985443115,
                        0.2505272924900055,
                        0.05950178951025009,
                        0.6047261953353882,
                        0.6090101003646851,
                        0.49723494052886963,
                        0.17447629570960999,
                        0.46664294600486755,
                        0.6957439184188843,
                        0.5442027449607849,
                        0.6647309064865112,
                        0,
                        0,
                        0.4440798759460449,
                        0.5684655904769897,
                        0.34341204166412354,
                        0,
                        0,
                        0.22617872059345245,
                        0.4760119318962097,
                        0.5312142372131348,
                        0.4849017560482025,
                        0.9281234741210938,
                        0.6787595748901367,
                        0.10678763687610626,
                        0,
                        0.36232683062553406,
                        0.19484426081180573,
                        0.19842910766601562,
                        0.5420773029327393,
                        0.8575891256332397,
                        0.2596132755279541,
                        0.4843919277191162,
                        0,
                        0.7048237323760986
                      ]
                    }
                  ],
                  "hovertemplate": "label=0<br>%{xaxis.title.text}=%{x}<br>%{yaxis.title.text}=%{y}<extra></extra>",
                  "legendgroup": "0",
                  "marker": {
                    "color": "#ab63fa",
                    "symbol": "circle"
                  },
                  "name": "0",
                  "showlegend": true,
                  "type": "splom"
                },
                {
                  "dimensions": [
                    {
                      "axis": {
                        "matches": true
                      },
                      "label": "0",
                      "values": [
                        0.526326060295105,
                        0.39403653144836426,
                        0.6364519000053406,
                        0.5439926385879517,
                        0.8827025890350342,
                        0.5500522255897522,
                        0.6295544505119324,
                        0.8569610118865967,
                        0.40717101097106934,
                        0.5827742218971252,
                        0.7174301147460938,
                        0.5165553689002991,
                        0.7491113543510437,
                        0.9931451082229614,
                        0.42659318447113037,
                        0.7648846507072449,
                        0.887360692024231,
                        0.6213912963867188,
                        0.33677807450294495,
                        0.776566207408905,
                        0.7184721231460571,
                        0.773747980594635,
                        0.5883495211601257,
                        0.36335626244544983,
                        0.8055343627929688,
                        0.6751896142959595,
                        0.6982775926589966,
                        0.6932781934738159,
                        0.38725924491882324,
                        0.6930909156799316,
                        0.6866831183433533,
                        0.5789972543716431,
                        0.7762605547904968,
                        0.8502091765403748,
                        0.9669349193572998,
                        0.04722592234611511,
                        0.5483248233795166,
                        0.6966604590415955,
                        0.5258341431617737,
                        0.6622886061668396,
                        0.7044369578361511,
                        0,
                        0.8173011541366577,
                        0.8107396364212036,
                        0.5342752933502197,
                        0.5998064875602722,
                        0.19820450246334076,
                        0.49095889925956726,
                        0.5851154327392578,
                        0.7519673705101013,
                        0.5183224678039551,
                        0.7977825999259949,
                        0.18223655223846436,
                        0.5826396942138672,
                        0.6107444167137146,
                        0.37749630212783813
                      ]
                    },
                    {
                      "axis": {
                        "matches": true
                      },
                      "label": "1",
                      "values": [
                        0.2695862054824829,
                        0.26918524503707886,
                        0.10045230388641357,
                        0.31727302074432373,
                        0.29809674620628357,
                        0.2674175202846527,
                        0.2803962230682373,
                        0.49223771691322327,
                        0.36040738224983215,
                        0.42954134941101074,
                        0.2615714371204376,
                        0,
                        0.45035651326179504,
                        0.4314456284046173,
                        0.22199620306491852,
                        0.3457163870334625,
                        0.36825957894325256,
                        0.26593518257141113,
                        0.31250905990600586,
                        0.32828882336616516,
                        0,
                        0.246689110994339,
                        0.6668305993080139,
                        0.30122673511505127,
                        0.37855544686317444,
                        0.30469435453414917,
                        0.33311858773231506,
                        0.2916717231273651,
                        0.13440053164958954,
                        0.34737423062324524,
                        0.1225464940071106,
                        0.37700164318084717,
                        0.2840519845485687,
                        0.6498743295669556,
                        0.41415390372276306,
                        0.509670078754425,
                        0.567315936088562,
                        0.21221189200878143,
                        0.4780913293361664,
                        0.29366040229797363,
                        0.22902391850948334,
                        0.6470980048179626,
                        0.2437095195055008,
                        0.24582253396511078,
                        0.32372263073921204,
                        0,
                        0.8267374038696289,
                        0,
                        0.5443828105926514,
                        0.3431892693042755,
                        0.586345374584198,
                        0,
                        0.6499500274658203,
                        0.30688342452049255,
                        0.4779549837112427,
                        0.12906214594841003
                      ]
                    },
                    {
                      "axis": {
                        "matches": true
                      },
                      "label": "2",
                      "values": [
                        0.7856242656707764,
                        1.2095208168029785,
                        0.8576937913894653,
                        0.7952111959457397,
                        1.0021071434020996,
                        0.0312889888882637,
                        1.1707220077514648,
                        1.5082082748413086,
                        0.8651182651519775,
                        1.0480786561965942,
                        0.9209173917770386,
                        0.6215991973876953,
                        1.264306902885437,
                        0.8037070035934448,
                        0.6689397096633911,
                        0.7770067453384399,
                        0.8726046085357666,
                        1.0186271667480469,
                        0.8514840602874756,
                        0.6132839918136597,
                        0.7940469980239868,
                        0.6973955631256104,
                        1.0362476110458374,
                        1.0601425170898438,
                        0.7268470525741577,
                        1.144853949546814,
                        1.0103248357772827,
                        1.1910921335220337,
                        1.0512664318084717,
                        0.7578917741775513,
                        0.8035410642623901,
                        0,
                        1.055370807647705,
                        1.3325287103652954,
                        1.1891191005706787,
                        0.6506364345550537,
                        1.10514497756958,
                        0.41798245906829834,
                        1.2313657999038696,
                        1.151389479637146,
                        0.7640689611434937,
                        0.8870564699172974,
                        1.1068170070648193,
                        0.967811107635498,
                        0.9123854637145996,
                        0.32484734058380127,
                        1.0072165727615356,
                        0.5139007568359375,
                        0.6581556797027588,
                        0.6382763385772705,
                        0.8731456995010376,
                        0.5535268783569336,
                        0.9233211278915405,
                        1.053931713104248,
                        1.2350987195968628,
                        0.7520997524261475
                      ]
                    },
                    {
                      "axis": {
                        "matches": true
                      },
                      "label": "3",
                      "values": [
                        0.2438819855451584,
                        0.518078088760376,
                        0.1757752001285553,
                        0.13138650357723236,
                        0.40618160367012024,
                        0.3671508729457855,
                        0.4794297218322754,
                        0.7090312242507935,
                        0.21658550202846527,
                        0.47092491388320923,
                        0.1451817750930786,
                        0.39975905418395996,
                        0.6233279705047607,
                        0.7152650356292725,
                        0.30212944746017456,
                        0.3899880051612854,
                        0.3639880120754242,
                        0.1815914809703827,
                        0.4146215617656708,
                        0.5807825326919556,
                        0.7493788003921509,
                        0.19046729803085327,
                        0.2539719045162201,
                        0.3945885896682739,
                        0.4196073114871979,
                        0.3071257472038269,
                        0.1641346514225006,
                        0.38409873843193054,
                        0.29395076632499695,
                        0.17211176455020905,
                        0.38079068064689636,
                        0.19048501551151276,
                        0.5974529981613159,
                        0.6044067144393921,
                        0.4128754436969757,
                        0.44538283348083496,
                        0.29398787021636963,
                        0.23443566262722015,
                        0.575957179069519,
                        0.7211672067642212,
                        0.5388438701629639,
                        0.21540521085262299,
                        0.2049320489168167,
                        0.37444615364074707,
                        0.16163945198059082,
                        0.20288680493831635,
                        0.2910594344139099,
                        0.43295225501060486,
                        0.0782618373632431,
                        0.46451929211616516,
                        0.06951141357421875,
                        0.8986653089523315,
                        0.3687715530395508,
                        0.33434802293777466,
                        0.2729645371437073,
                        0.5645970106124878
                      ]
                    },
                    {
                      "axis": {
                        "matches": true
                      },
                      "label": "4",
                      "values": [
                        0.05357237160205841,
                        0.43325352668762207,
                        0.32705968618392944,
                        0.24794961512088776,
                        0.2237510085105896,
                        0,
                        0.41371235251426697,
                        0.2698075771331787,
                        0,
                        0,
                        0.7117270231246948,
                        0,
                        0.09555453062057495,
                        0.21835140883922577,
                        0,
                        0.387270987033844,
                        0.6792251467704773,
                        0.4735884666442871,
                        0,
                        0.556190013885498,
                        0.4064180254936218,
                        0.5873087644577026,
                        0.4329869747161865,
                        0,
                        0.38107869029045105,
                        0.4577960669994354,
                        0.3770589828491211,
                        0.4455769956111908,
                        0,
                        0.6386649012565613,
                        0.18014931678771973,
                        0.7539511919021606,
                        0.04728591442108154,
                        0.5235196352005005,
                        0.19446876645088196,
                        0,
                        0.2407853603363037,
                        0.6713045835494995,
                        0.7742253541946411,
                        0.5221991539001465,
                        0.7876399755477905,
                        0,
                        0.5968573093414307,
                        0.10842957347631454,
                        0,
                        0.043243229389190674,
                        0,
                        0.3001709580421448,
                        0.06418130546808243,
                        0.5120428204536438,
                        0.30892425775527954,
                        0.7000634670257568,
                        0,
                        0.3105579614639282,
                        0.8167904615402222,
                        0.9713563919067383
                      ]
                    }
                  ],
                  "hovertemplate": "label=4<br>%{xaxis.title.text}=%{x}<br>%{yaxis.title.text}=%{y}<extra></extra>",
                  "legendgroup": "4",
                  "marker": {
                    "color": "#FFA15A",
                    "symbol": "circle"
                  },
                  "name": "4",
                  "showlegend": true,
                  "type": "splom"
                },
                {
                  "dimensions": [
                    {
                      "axis": {
                        "matches": true
                      },
                      "label": "0",
                      "values": [
                        0.36701494455337524,
                        0.5014692544937134,
                        0.9360787868499756,
                        0.6890875101089478,
                        0.6692045331001282,
                        0.8088051676750183,
                        0.5789086818695068,
                        0.3376004993915558,
                        0.6836035847663879,
                        0.568877637386322,
                        0.7292735576629639,
                        0.36350658535957336,
                        0.7013470530509949,
                        0.6274475455284119,
                        0.8684262037277222,
                        0.8618613481521606,
                        0.7647726535797119,
                        0.7055119276046753,
                        0.21366526186466217,
                        0.8441656231880188,
                        0.3595178723335266,
                        0.7117283344268799,
                        0.651630699634552,
                        0.48428308963775635,
                        0.7894207835197449,
                        0.6481737494468689,
                        0.4570375680923462,
                        0.9711096286773682,
                        0.46552950143814087,
                        0.7013386487960815,
                        0.38527223467826843,
                        0.9396769404411316,
                        0.6896844506263733,
                        0.8442714810371399,
                        0.7024492621421814,
                        0.5759070515632629,
                        0.7063060402870178,
                        0.643612802028656,
                        0.7849597334861755,
                        0.581522524356842,
                        0.6641877889633179,
                        0.7649514079093933,
                        0.6607887744903564,
                        0.5160380601882935,
                        0.5426392555236816,
                        0.7985632419586182,
                        0.6972804069519043,
                        0.712230920791626,
                        0.6346047520637512,
                        0.26455458998680115,
                        0.6872918605804443,
                        0.7980602383613586,
                        0.4922963082790375,
                        0.6843398809432983,
                        0.5348910689353943
                      ]
                    },
                    {
                      "axis": {
                        "matches": true
                      },
                      "label": "1",
                      "values": [
                        0.4869266450405121,
                        0,
                        0.08867231011390686,
                        0.2669498026371002,
                        0.05288151279091835,
                        0.08543612062931061,
                        0.3280690014362335,
                        0.18668398261070251,
                        0.1199364960193634,
                        0,
                        0.5063869953155518,
                        0.5992611646652222,
                        0.1036180704832077,
                        0.3054591715335846,
                        0.2824552655220032,
                        0.16865698993206024,
                        0.47880420088768005,
                        0.38627615571022034,
                        0.8381980061531067,
                        0.34492024779319763,
                        0.5664430856704712,
                        0.43354418873786926,
                        0.6757661700248718,
                        0.643962025642395,
                        0.5358645915985107,
                        0.20693127810955048,
                        0.8299057483673096,
                        0.33339923620224,
                        0.6242324113845825,
                        0.2585836946964264,
                        0.6376417279243469,
                        0.17563629150390625,
                        0.4591204822063446,
                        0.6124634146690369,
                        0.29300227761268616,
                        0.33451321721076965,
                        0.3771040737628937,
                        0.620373547077179,
                        0.41974857449531555,
                        0.32031604647636414,
                        0.01986321434378624,
                        0.2907124161720276,
                        0.20878024399280548,
                        0.35644447803497314,
                        0.20231521129608154,
                        0.2937866151332855,
                        0.5653164982795715,
                        0.33523184061050415,
                        0.04003642499446869,
                        0.8553277850151062,
                        0.40755951404571533,
                        0.13504944741725922,
                        0.01731240376830101,
                        0.38140150904655457,
                        0.46516934037208557
                      ]
                    },
                    {
                      "axis": {
                        "matches": true
                      },
                      "label": "2",
                      "values": [
                        0.7031426429748535,
                        1.0105997323989868,
                        1.1478173732757568,
                        1.1563751697540283,
                        1.0123744010925293,
                        1.1816086769104004,
                        1.0126197338104248,
                        0.79437255859375,
                        0.9808434247970581,
                        0.6269985437393188,
                        1.2249181270599365,
                        1.0359612703323364,
                        1.0080736875534058,
                        1.30588960647583,
                        1.180149793624878,
                        1.0069551467895508,
                        0.8799912929534912,
                        1.0739160776138306,
                        1.044431447982788,
                        0.8317292928695679,
                        1.3031461238861084,
                        1.4146482944488525,
                        1.273673415184021,
                        1.2415393590927124,
                        1.417317509651184,
                        1.0129072666168213,
                        0.8963544368743896,
                        1.4058406352996826,
                        1.1617380380630493,
                        1.201229214668274,
                        1.1372755765914917,
                        1.0177651643753052,
                        0.9792253971099854,
                        1.2598310708999634,
                        1.1180485486984253,
                        1.3069173097610474,
                        1.2475436925888062,
                        1.1534277200698853,
                        1.231331467628479,
                        1.4982080459594727,
                        0.9130395650863647,
                        1.0835860967636108,
                        1.2632946968078613,
                        1.4207878112792969,
                        1.1383715867996216,
                        1.1319752931594849,
                        0.7957340478897095,
                        0.968158483505249,
                        1.0839214324951172,
                        1.025434136390686,
                        1.2975242137908936,
                        0.951372504234314,
                        1.1551717519760132,
                        1.1702749729156494,
                        0.9794056415557861
                      ]
                    },
                    {
                      "axis": {
                        "matches": true
                      },
                      "label": "3",
                      "values": [
                        0.06382511556148529,
                        1.1331230401992798,
                        0.5238820314407349,
                        0.46138015389442444,
                        0.9559518098831177,
                        0.4137449860572815,
                        0.16641247272491455,
                        1.1127612590789795,
                        0.6923494338989258,
                        0.6002165079116821,
                        0.34207332134246826,
                        0.2128807008266449,
                        0.21258199214935303,
                        0.2840968370437622,
                        0.20545345544815063,
                        0.4425555467605591,
                        0.10188625752925873,
                        0.3889999985694885,
                        0.6499388217926025,
                        0.4819699823856354,
                        0.2422148883342743,
                        0.5351237058639526,
                        0.23920167982578278,
                        0.13520729541778564,
                        0.5331190824508667,
                        0.21083275973796844,
                        0.8492454290390015,
                        0.18669795989990234,
                        0.12676021456718445,
                        0.6744147539138794,
                        0.3773464858531952,
                        0.7616773843765259,
                        0.21396960318088531,
                        0.30219167470932007,
                        0.689478874206543,
                        0.2927404046058655,
                        0.2224920392036438,
                        0.28831684589385986,
                        0.6248105764389038,
                        0.42764347791671753,
                        0.4557098150253296,
                        0.1366264373064041,
                        0.41744929552078247,
                        0.3781803548336029,
                        0.6173752546310425,
                        0.3779727518558502,
                        0.9329712390899658,
                        0.19244807958602905,
                        0.30298295617103577,
                        0.7566066980361938,
                        0.28119805455207825,
                        0.32840192317962646,
                        0.4278903305530548,
                        0.15706384181976318,
                        0.4521908462047577
                      ]
                    },
                    {
                      "axis": {
                        "matches": true
                      },
                      "label": "4",
                      "values": [
                        0.3824998140335083,
                        0.6907697916030884,
                        0.4366084337234497,
                        0.19024769961833954,
                        0.8803828954696655,
                        0.12634196877479553,
                        0.4387223720550537,
                        1.2685822248458862,
                        1.092837929725647,
                        0.7607768774032593,
                        0.08756472170352936,
                        0,
                        0.15795139968395233,
                        0.46703246235847473,
                        0.3690345883369446,
                        0.5590295791625977,
                        0.29955750703811646,
                        0.31344205141067505,
                        0.13981902599334717,
                        0.35848546028137207,
                        0.3854708969593048,
                        0.5836844444274902,
                        0.2647816240787506,
                        0,
                        0.5848320722579956,
                        0.11992435157299042,
                        0.4706117808818817,
                        0.2679586410522461,
                        0.5993577241897583,
                        0.39307093620300293,
                        0.021960929036140442,
                        0.5152552723884583,
                        0.04905398190021515,
                        0.3409835994243622,
                        0.20959334075450897,
                        1.0408618450164795,
                        0.4296470582485199,
                        0.22189177572727203,
                        0.493112176656723,
                        0.6756806373596191,
                        0.3808344602584839,
                        0.39287614822387695,
                        0.6530487537384033,
                        0.4689496159553528,
                        0.8486620187759399,
                        0.5142326354980469,
                        0.9713516235351562,
                        0.02238468825817108,
                        0.5479718446731567,
                        0.5555905103683472,
                        0.40116921067237854,
                        0.22104205191135406,
                        0.5958844423294067,
                        0.36024361848831177,
                        0
                      ]
                    }
                  ],
                  "hovertemplate": "label=9<br>%{xaxis.title.text}=%{x}<br>%{yaxis.title.text}=%{y}<extra></extra>",
                  "legendgroup": "9",
                  "marker": {
                    "color": "#19d3f3",
                    "symbol": "circle"
                  },
                  "name": "9",
                  "showlegend": true,
                  "type": "splom"
                },
                {
                  "dimensions": [
                    {
                      "axis": {
                        "matches": true
                      },
                      "label": "0",
                      "values": [
                        0.7081499099731445,
                        0.06499277800321579,
                        0.6581939458847046,
                        0.5123015642166138,
                        0.6763197779655457,
                        0.1988753080368042,
                        0.5822775959968567,
                        0.14084181189537048,
                        0.28491684794425964,
                        0.5091093182563782,
                        0.5176032781600952,
                        0.39926764369010925,
                        0.6932021379470825,
                        0.3736332654953003,
                        0.5849478840827942,
                        0.4722784459590912,
                        0.3210083544254303,
                        0.4359038472175598,
                        0.7273030877113342,
                        0.2656886577606201,
                        0.31612393260002136,
                        0.6511532664299011,
                        0.4209578037261963,
                        0.5610294342041016,
                        0.45202070474624634,
                        0.46431973576545715,
                        0.31405144929885864,
                        0.45205193758010864,
                        0.3800554573535919,
                        0.38527876138687134,
                        0.3657885491847992,
                        0.06762263178825378,
                        0.5741792321205139,
                        0.7054205536842346,
                        0.49970316886901855,
                        0.28761807084083557,
                        0.5358847975730896,
                        0.38138023018836975,
                        0,
                        0.6729618906974792,
                        0.5209810733795166,
                        0.3582165539264679,
                        0.7166515588760376,
                        0.3164386749267578,
                        0.48566165566444397,
                        0.5564807057380676,
                        0.1692734956741333,
                        0.6753623485565186,
                        0.497831255197525,
                        0.5379782319068909,
                        0.4459001421928406,
                        0.2773978114128113
                      ]
                    },
                    {
                      "axis": {
                        "matches": true
                      },
                      "label": "1",
                      "values": [
                        0.3719308078289032,
                        1.0079845190048218,
                        0.5208145380020142,
                        0.6561205387115479,
                        0.43626314401626587,
                        0.8906084299087524,
                        0,
                        0.4594613015651703,
                        1.029470443725586,
                        0.4473338723182678,
                        0.5266820788383484,
                        1.1620274782180786,
                        0.11469072103500366,
                        0.8222144246101379,
                        0.438249796628952,
                        0.8994734883308411,
                        1.197177767753601,
                        0,
                        0.5612418055534363,
                        1.0920060873031616,
                        0.9752265810966492,
                        0.22802378237247467,
                        0.09665437042713165,
                        0.4900084137916565,
                        0.9735815525054932,
                        0.5888312458992004,
                        0.21588841080665588,
                        0.12027454376220703,
                        0.8781355023384094,
                        0,
                        1.155031681060791,
                        0.622009813785553,
                        0.8086363077163696,
                        0.5583396553993225,
                        0.9893819093704224,
                        1.1543890237808228,
                        0.6906964778900146,
                        0.6908235549926758,
                        1.0848299264907837,
                        0.47424811124801636,
                        0.897650420665741,
                        0.9607764482498169,
                        1.1778653860092163,
                        0.9693419933319092,
                        0.10517500340938568,
                        0.21731524169445038,
                        0.8866866230964661,
                        0.7286508083343506,
                        0,
                        0.6050654053688049,
                        0.25633424520492554,
                        0.7018895745277405
                      ]
                    },
                    {
                      "axis": {
                        "matches": true
                      },
                      "label": "2",
                      "values": [
                        0.5936254262924194,
                        0.5769443511962891,
                        0.6095349788665771,
                        0.575597882270813,
                        0.5187829732894897,
                        0.7440214157104492,
                        0.6355313062667847,
                        0.9527204036712646,
                        0.9900739192962646,
                        0.7761044502258301,
                        0.7001786231994629,
                        0.666996955871582,
                        0.49002134799957275,
                        0.6283118724822998,
                        0.4434698820114136,
                        0.7996314764022827,
                        0.8041641712188721,
                        0.029283374547958374,
                        0.9900163412094116,
                        0.794562578201294,
                        0.875296950340271,
                        0.6251293420791626,
                        0.8282055854797363,
                        0.3452907204627991,
                        0.867634654045105,
                        0.635299801826477,
                        0.46872594952583313,
                        0.44364696741104126,
                        0.8450139760971069,
                        0.31167900562286377,
                        0.6729215383529663,
                        0.8254209756851196,
                        0.3929915428161621,
                        0.832714319229126,
                        0.9898272752761841,
                        0.5199869871139526,
                        0.7193021774291992,
                        0.8194857835769653,
                        0.7819602489471436,
                        0.721416711807251,
                        0.7082375288009644,
                        0.7756235599517822,
                        0.7828145027160645,
                        1.1430336236953735,
                        0.4680185616016388,
                        1.0559041500091553,
                        0.9886068105697632,
                        0.8514158725738525,
                        0.37815359234809875,
                        0.6636115312576294,
                        0.12621833384037018,
                        0.6642359495162964
                      ]
                    },
                    {
                      "axis": {
                        "matches": true
                      },
                      "label": "3",
                      "values": [
                        0.6413332223892212,
                        0.7836345434188843,
                        0.9713305234909058,
                        0.8212034702301025,
                        1.0048799514770508,
                        0.6941378116607666,
                        0.5538110136985779,
                        1.221396565437317,
                        1.2052383422851562,
                        1.0247269868850708,
                        1.0506807565689087,
                        0.8806065320968628,
                        0.9207911491394043,
                        0.7625303268432617,
                        1.0572946071624756,
                        1.318271279335022,
                        0.8616505861282349,
                        0.4187856614589691,
                        0.603545069694519,
                        1.102932333946228,
                        0.6586542129516602,
                        0.9185968637466431,
                        0.9109790325164795,
                        1.0209871530532837,
                        0.8161301612854004,
                        0.9172755479812622,
                        0.770763635635376,
                        0.7714388370513916,
                        0.33872711658477783,
                        0.6013848781585693,
                        0.7624460458755493,
                        1.181554913520813,
                        0.3580274283885956,
                        1.033230185508728,
                        1.018168568611145,
                        0.9873166084289551,
                        1.2485731840133667,
                        1.0729808807373047,
                        0.7759393453598022,
                        1.0257363319396973,
                        0.9463753700256348,
                        0.7652058601379395,
                        0.8350527286529541,
                        1.315704107284546,
                        0.8548667430877686,
                        0.5931473970413208,
                        1.0376200675964355,
                        0.44967541098594666,
                        0.5863262414932251,
                        0.9461610317230225,
                        0.7015889883041382,
                        0.9184530973434448
                      ]
                    },
                    {
                      "axis": {
                        "matches": true
                      },
                      "label": "4",
                      "values": [
                        0.1543341875076294,
                        0.5126115083694458,
                        0.8803482055664062,
                        0.8869971036911011,
                        0.6046168804168701,
                        0.400289922952652,
                        0.6402716040611267,
                        0.5201156139373779,
                        0.6576545834541321,
                        0.6557938456535339,
                        0.8641871213912964,
                        0.7061767578125,
                        0.6157424449920654,
                        0.6652276515960693,
                        0.7643508911132812,
                        0.8312159776687622,
                        0.5836383700370789,
                        0.47054868936538696,
                        0.8916811943054199,
                        0.7228028774261475,
                        0.49745237827301025,
                        0.7342215776443481,
                        0.7698309421539307,
                        0.8303408622741699,
                        0.9017816781997681,
                        0.889798641204834,
                        1.0946826934814453,
                        0.668857991695404,
                        0.5885710120201111,
                        0.4455338716506958,
                        0.3591405153274536,
                        0.7299953699111938,
                        1.0021140575408936,
                        0.6754160523414612,
                        0.6660588979721069,
                        0.22901244461536407,
                        0.7080368995666504,
                        0.42894309759140015,
                        0.4696859121322632,
                        0.7160099744796753,
                        0.7151542901992798,
                        0.8041137456893921,
                        0.4223288893699646,
                        0.8202543258666992,
                        0.520224928855896,
                        0.6573565006256104,
                        0.5775587558746338,
                        0.7445143461227417,
                        0.5627888441085815,
                        0.7584729194641113,
                        0.9495130777359009,
                        0.8193612098693848
                      ]
                    }
                  ],
                  "hovertemplate": "label=5<br>%{xaxis.title.text}=%{x}<br>%{yaxis.title.text}=%{y}<extra></extra>",
                  "legendgroup": "5",
                  "marker": {
                    "color": "#FF6692",
                    "symbol": "circle"
                  },
                  "name": "5",
                  "showlegend": true,
                  "type": "splom"
                },
                {
                  "dimensions": [
                    {
                      "axis": {
                        "matches": true
                      },
                      "label": "0",
                      "values": [
                        0.5164628028869629,
                        0.7609864473342896,
                        0.5540757179260254,
                        1.0823391675949097,
                        0.22616733610630035,
                        0.4921782910823822,
                        0.8138675093650818,
                        0.5273177623748779,
                        0.9663933515548706,
                        0.8408779501914978,
                        0.4552624821662903,
                        0.8198682069778442,
                        1.0418552160263062,
                        1.0383380651474,
                        0.6654758453369141,
                        0.9068630933761597,
                        0.41093209385871887,
                        0.9560049176216125,
                        0.5166158080101013,
                        1.1648600101470947,
                        0.467935711145401,
                        0.9691838622093201,
                        0.5845348238945007,
                        0.8814048171043396,
                        1.057944416999817,
                        0.7336395382881165,
                        0.2337597757577896,
                        0.7721258401870728,
                        0.6115956902503967,
                        0.5962406396865845,
                        0.8504250049591064,
                        0.8662256598472595,
                        0.9091655015945435,
                        0.8837763071060181,
                        0.9280967712402344,
                        0.5508077144622803,
                        0.9162887930870056,
                        0.9245380759239197,
                        0.6393495798110962,
                        0.6638087630271912,
                        0.7712249755859375,
                        0.44536489248275757,
                        0.8009335994720459,
                        0.9008312821388245
                      ]
                    },
                    {
                      "axis": {
                        "matches": true
                      },
                      "label": "1",
                      "values": [
                        0.8184015154838562,
                        0.9592924118041992,
                        0.6240079998970032,
                        0.7537258267402649,
                        0.9137065410614014,
                        0.5801857709884644,
                        0.862802267074585,
                        0.8731607794761658,
                        0.7890306115150452,
                        0.7766176462173462,
                        0.65326988697052,
                        0.8334930539131165,
                        0.7580485939979553,
                        0.7675420641899109,
                        0.9275820851325989,
                        0.6446661353111267,
                        0.7062602043151855,
                        0.6301447153091431,
                        0.6630116105079651,
                        0.6343958973884583,
                        0.7466915249824524,
                        0.3571661710739136,
                        1.084636926651001,
                        0.7031612992286682,
                        0.4256637990474701,
                        0.7763843536376953,
                        0.660804808139801,
                        0.8537062406539917,
                        0.9175892472267151,
                        0.6230352520942688,
                        0.8338291645050049,
                        0.8568021655082703,
                        0.8026715517044067,
                        0.7129276394844055,
                        0.5750828981399536,
                        0.2565654516220093,
                        1.055765986442566,
                        0.7819559574127197,
                        1.1197599172592163,
                        1.1317638158798218,
                        1.0221613645553589,
                        0.7338285446166992,
                        0.43157288432121277,
                        0.6818678379058838
                      ]
                    },
                    {
                      "axis": {
                        "matches": true
                      },
                      "label": "2",
                      "values": [
                        0.492764413356781,
                        0.6916162967681885,
                        0.6235480308532715,
                        0.38227108120918274,
                        0.34913182258605957,
                        0.3638784885406494,
                        0.50731360912323,
                        0.42765164375305176,
                        0.43955978751182556,
                        0.412880539894104,
                        0.422294557094574,
                        0.3544957637786865,
                        0.4934593439102173,
                        0.2433931976556778,
                        0.36385905742645264,
                        0.49661868810653687,
                        0.3719525635242462,
                        0.07354944199323654,
                        0.5999919176101685,
                        0.3389608860015869,
                        0.13557681441307068,
                        0.36981579661369324,
                        0.5932602286338806,
                        0.6115348935127258,
                        0.337538480758667,
                        0.5143281817436218,
                        0.605732798576355,
                        0.39826419949531555,
                        0.6006709337234497,
                        0.45092666149139404,
                        0.6248440742492676,
                        0.20304375886917114,
                        0.46599164605140686,
                        0.469365656375885,
                        0.4472975432872772,
                        0.02873431146144867,
                        0.5044460296630859,
                        0.5697017908096313,
                        0.6243135929107666,
                        0.5440598726272583,
                        0.47599300742149353,
                        0.42502427101135254,
                        0.3629796802997589,
                        0.5533891320228577
                      ]
                    },
                    {
                      "axis": {
                        "matches": true
                      },
                      "label": "3",
                      "values": [
                        0.45308801531791687,
                        0.24573777616024017,
                        0.14209163188934326,
                        0.19854094088077545,
                        0.1362989842891693,
                        0.33605509996414185,
                        0.2661135792732239,
                        0.022186897695064545,
                        0.14595940709114075,
                        0.3532753586769104,
                        0.1604747176170349,
                        0.210226371884346,
                        0.3008803725242615,
                        0.4664449393749237,
                        0.11459819972515106,
                        0.19209836423397064,
                        0,
                        0.2247878611087799,
                        0.14623460173606873,
                        0.30762988328933716,
                        0.21486178040504456,
                        0.674919843673706,
                        0.5236454606056213,
                        0.17325459420681,
                        0.271217942237854,
                        0.1785801351070404,
                        0.0318925678730011,
                        0.45563560724258423,
                        0.13201504945755005,
                        0.29602640867233276,
                        0.2107880562543869,
                        0.16231286525726318,
                        0.36267319321632385,
                        0.10141442716121674,
                        0.3016100823879242,
                        0.6507183313369751,
                        0.48626264929771423,
                        0.5608784556388855,
                        0.006298765540122986,
                        0.24912816286087036,
                        0.21317122876644135,
                        0.09418269991874695,
                        0.15635037422180176,
                        0.6279687881469727
                      ]
                    },
                    {
                      "axis": {
                        "matches": true
                      },
                      "label": "4",
                      "values": [
                        0.21631912887096405,
                        0.5648773908615112,
                        0.15740856528282166,
                        0.7486749887466431,
                        0,
                        0.28573039174079895,
                        0.5304536819458008,
                        0.21345432102680206,
                        0.5252532958984375,
                        0.4477050304412842,
                        0.23207293450832367,
                        0.47189968824386597,
                        0.3801148533821106,
                        0.46428829431533813,
                        0.16576367616653442,
                        0.6946401596069336,
                        0.1315925419330597,
                        0.3215681314468384,
                        0.36306530237197876,
                        0.7655251026153564,
                        0,
                        0.8978109359741211,
                        0.03469279408454895,
                        0.8711127042770386,
                        0.8471111059188843,
                        0.40465080738067627,
                        0.33697444200515747,
                        0.22770358622074127,
                        0.18738336861133575,
                        0.35115355253219604,
                        0.6154115200042725,
                        0.19847434759140015,
                        0.6615819931030273,
                        0.4508722424507141,
                        0.7426877021789551,
                        0.15679556131362915,
                        0.4907154440879822,
                        0.8464248180389404,
                        0,
                        0.17070989310741425,
                        0.1151181012392044,
                        0.13444578647613525,
                        0.8105918169021606,
                        0.8131465911865234
                      ]
                    }
                  ],
                  "hovertemplate": "label=6<br>%{xaxis.title.text}=%{x}<br>%{yaxis.title.text}=%{y}<extra></extra>",
                  "legendgroup": "6",
                  "marker": {
                    "color": "#B6E880",
                    "symbol": "circle"
                  },
                  "name": "6",
                  "showlegend": true,
                  "type": "splom"
                },
                {
                  "dimensions": [
                    {
                      "axis": {
                        "matches": true
                      },
                      "label": "0",
                      "values": [
                        0.0743715837597847,
                        0.22473888099193573,
                        0.30378374457359314,
                        0.4524385333061218,
                        0.14853590726852417,
                        0.16964693367481232,
                        0.46982741355895996,
                        0.2854873538017273,
                        0.31229278445243835,
                        0.24702727794647217,
                        0.40463507175445557,
                        0.46163496375083923,
                        0,
                        0.12940792739391327,
                        0.12943238019943237,
                        0.19397491216659546,
                        0.41683512926101685,
                        0.3010491132736206,
                        0.21686382591724396,
                        0.05752220377326012,
                        0.2911187410354614,
                        0.319426566362381,
                        0.24412335455417633,
                        0.08652916550636292,
                        0.277218222618103,
                        0.30909690260887146,
                        0.23332062363624573,
                        0.21651653945446014,
                        0.040106065571308136,
                        0.21040920913219452,
                        0.3826790750026703,
                        0.12046913802623749,
                        0.2253440022468567,
                        0,
                        0.44275230169296265,
                        0,
                        0.30191168189048767,
                        0.08581655472517014,
                        0.4027620553970337,
                        0.12216795980930328,
                        0.42881476879119873,
                        0.2685563862323761,
                        0,
                        0,
                        0.02106429636478424,
                        0.05833600088953972,
                        0.25128719210624695,
                        0.5334941744804382
                      ]
                    },
                    {
                      "axis": {
                        "matches": true
                      },
                      "label": "1",
                      "values": [
                        1.2359590530395508,
                        0.7982584834098816,
                        1.1198371648788452,
                        0.8186353445053101,
                        1.173448085784912,
                        0.5693594813346863,
                        1.0062464475631714,
                        0.9166603088378906,
                        0.9167281985282898,
                        0.9694382548332214,
                        0.9604762196540833,
                        0.7017117142677307,
                        0.9261652231216431,
                        1.0991877317428589,
                        0.928921103477478,
                        0.5919435024261475,
                        1.1040180921554565,
                        0.8429023623466492,
                        0.559431791305542,
                        0.8333286046981812,
                        0.7993441820144653,
                        0.6570549011230469,
                        0.6879850029945374,
                        1.2539832592010498,
                        1.0072368383407593,
                        1.019061803817749,
                        1.143924355506897,
                        0.8362534642219543,
                        0.8163236379623413,
                        0.8062645196914673,
                        1.1122429370880127,
                        0.4493510127067566,
                        0.6456394791603088,
                        0.5424121618270874,
                        1.1548404693603516,
                        1.036733865737915,
                        1.1672377586364746,
                        1.302510380744934,
                        1.2104061841964722,
                        1.2074589729309082,
                        1.121803641319275,
                        0.9294105768203735,
                        1.0844545364379883,
                        0.23872263729572296,
                        1.2827003002166748,
                        1.2055420875549316,
                        0.8200851082801819,
                        0.8071929216384888
                      ]
                    },
                    {
                      "axis": {
                        "matches": true
                      },
                      "label": "2",
                      "values": [
                        0.6408944129943848,
                        0.9782308340072632,
                        1.0675005912780762,
                        0.9017475843429565,
                        0.803214430809021,
                        0.2512097656726837,
                        1.0769613981246948,
                        0.6977617740631104,
                        1.1361865997314453,
                        0.6484999656677246,
                        0.9116774797439575,
                        0.9451842308044434,
                        0.839083194732666,
                        0.7391135692596436,
                        0.5893479585647583,
                        0.8539212942123413,
                        0.38154760003089905,
                        0.9189678430557251,
                        0.8959038257598877,
                        0.6000430583953857,
                        0.3856426775455475,
                        0.5682895183563232,
                        0.3445664048194885,
                        0.9694150686264038,
                        0.687461256980896,
                        0.7615132331848145,
                        0.7117918729782104,
                        0.715056300163269,
                        0.5450669527053833,
                        0.7904047966003418,
                        0.4636787176132202,
                        1.0772497653961182,
                        0.557951807975769,
                        0.740066647529602,
                        1.0849210023880005,
                        0.31584101915359497,
                        0.6036390662193298,
                        1.0164945125579834,
                        0.9819517135620117,
                        0.6942225694656372,
                        0.9432617425918579,
                        0.8249329328536987,
                        0.40868449211120605,
                        0.6847673654556274,
                        0.5656014680862427,
                        0.8709356784820557,
                        0.7023124694824219,
                        0.8759725093841553
                      ]
                    },
                    {
                      "axis": {
                        "matches": true
                      },
                      "label": "3",
                      "values": [
                        0.32440951466560364,
                        0.8217202425003052,
                        0.7257826328277588,
                        0.35370567440986633,
                        0.7985790967941284,
                        0.6423549652099609,
                        0.9671485424041748,
                        0.6890047788619995,
                        0.5688003301620483,
                        1.0224684476852417,
                        1.0758136510849,
                        0.5560455322265625,
                        0.7588117122650146,
                        0.5447184443473816,
                        0.7950313091278076,
                        0,
                        0.9579262733459473,
                        0.4031406342983246,
                        0.44356751441955566,
                        0.8983772993087769,
                        0.5309628248214722,
                        0.5233265161514282,
                        0.24907508492469788,
                        0.9175221920013428,
                        0.5883662700653076,
                        0.6191840171813965,
                        0.7038460969924927,
                        0.6866269111633301,
                        0.8812993764877319,
                        0.5437012314796448,
                        0.9950459003448486,
                        0.5153377652168274,
                        0.9725923538208008,
                        0.30172640085220337,
                        0.8676126003265381,
                        0.44801634550094604,
                        0.7632467746734619,
                        1.136751413345337,
                        0.8900001049041748,
                        0.8795441389083862,
                        1.0884350538253784,
                        1.170565128326416,
                        0.699942946434021,
                        1.1384748220443726,
                        1.0055489540100098,
                        0.9635015726089478,
                        0.8767188787460327,
                        0.5412840843200684
                      ]
                    },
                    {
                      "axis": {
                        "matches": true
                      },
                      "label": "4",
                      "values": [
                        0.2885909676551819,
                        0.9745988845825195,
                        0.8078100681304932,
                        1.091671109199524,
                        0.42153996229171753,
                        0.8365916013717651,
                        0.981857180595398,
                        1.0340871810913086,
                        0.56050044298172,
                        0.9826805591583252,
                        1.1563653945922852,
                        1.0357483625411987,
                        0.7091052532196045,
                        0.6166841983795166,
                        0.47295889258384705,
                        0.5612728595733643,
                        0.8681502342224121,
                        0.8132765293121338,
                        1.025750994682312,
                        1.15646231174469,
                        1.047720193862915,
                        0.9885973930358887,
                        0.3092638850212097,
                        0.8632184267044067,
                        0.9262584447860718,
                        0.9113858938217163,
                        0.5836102366447449,
                        1.1269779205322266,
                        0.873212456703186,
                        0.992560863494873,
                        0.8124117851257324,
                        0.7068279981613159,
                        0.8273710012435913,
                        0.39516115188598633,
                        0.8216699361801147,
                        0.35859203338623047,
                        0.7634072303771973,
                        0.7718310356140137,
                        0.9524564743041992,
                        0.6091570854187012,
                        1.1252998113632202,
                        0.92999267578125,
                        0.587727427482605,
                        0.8243882656097412,
                        0.7370717525482178,
                        1.007137417793274,
                        1.034916877746582,
                        0.8234012126922607
                      ]
                    }
                  ],
                  "hovertemplate": "label=3<br>%{xaxis.title.text}=%{x}<br>%{yaxis.title.text}=%{y}<extra></extra>",
                  "legendgroup": "3",
                  "marker": {
                    "color": "#FF97FF",
                    "symbol": "circle"
                  },
                  "name": "3",
                  "showlegend": true,
                  "type": "splom"
                },
                {
                  "dimensions": [
                    {
                      "axis": {
                        "matches": true
                      },
                      "label": "0",
                      "values": [
                        0.3987812399864197,
                        0.48809847235679626,
                        0.44229111075401306,
                        0.3585071563720703,
                        0.3726925253868103,
                        0.6573097109794617,
                        0.6712751388549805,
                        0.35630524158477783,
                        0.44688963890075684,
                        0.4878543019294739,
                        0.4582388997077942,
                        0.4685122072696686,
                        0.3584553897380829,
                        0.616461455821991,
                        0.6478822827339172,
                        0.3980598747730255,
                        0.7011296153068542,
                        0.2396479994058609,
                        0.4937877058982849,
                        0.6491517424583435,
                        0.3057173192501068,
                        0.1756889671087265,
                        0.39253222942352295,
                        0.6252548694610596,
                        0.3517912030220032,
                        0.48924708366394043,
                        0.5077371001243591,
                        0.20393358170986176,
                        0.5880746841430664,
                        0.38087981939315796,
                        0.04243430122733116,
                        0.4588257670402527,
                        0.5177357196807861,
                        0.46322450041770935,
                        0.26285821199417114,
                        0.49984604120254517,
                        0.3829975128173828,
                        0.5788648128509521,
                        0.14111649990081787,
                        0.8705162405967712
                      ]
                    },
                    {
                      "axis": {
                        "matches": true
                      },
                      "label": "1",
                      "values": [
                        0.21394845843315125,
                        0.5204461216926575,
                        0.5704585313796997,
                        0.7055301666259766,
                        0.6185364127159119,
                        0.6015668511390686,
                        0.6616460084915161,
                        0.9046874642372131,
                        0.9447647333145142,
                        0.6764512658119202,
                        0.8285177946090698,
                        0.922201931476593,
                        0.41137638688087463,
                        0.17928023636341095,
                        0.7573781609535217,
                        0.36508306860923767,
                        0.9388039708137512,
                        0.8208825588226318,
                        0.6542282104492188,
                        0.7427660226821899,
                        0.6568737626075745,
                        1.2271156311035156,
                        0.6783267259597778,
                        0.3506753742694855,
                        0.7353487610816956,
                        0.7297515869140625,
                        0.6726906895637512,
                        0.7028965950012207,
                        0.31063610315322876,
                        0.6174306273460388,
                        0.6879695057868958,
                        0.5062193870544434,
                        0.4437497854232788,
                        0.48841020464897156,
                        0.6787603497505188,
                        0.40197357535362244,
                        0.6687458157539368,
                        0.6704854369163513,
                        0.35274380445480347,
                        0.8734369277954102
                      ]
                    },
                    {
                      "axis": {
                        "matches": true
                      },
                      "label": "2",
                      "values": [
                        0.12454026937484741,
                        0.8524956703186035,
                        0.41565605998039246,
                        1.1749866008758545,
                        0.8395704030990601,
                        0.9658104181289673,
                        1.0060726404190063,
                        0.8806470632553101,
                        0.8732548952102661,
                        0.5603925585746765,
                        1.2466164827346802,
                        0.830085277557373,
                        1.2834815979003906,
                        0.5097672939300537,
                        0.8056831359863281,
                        0.6717653274536133,
                        0.6402618885040283,
                        0.6540942192077637,
                        1.167398452758789,
                        1.0905500650405884,
                        0.675107479095459,
                        0.5896811485290527,
                        0.8043293952941895,
                        0.5463641881942749,
                        0.9805233478546143,
                        1.0361196994781494,
                        0.8409219980239868,
                        0.7917447090148926,
                        0.9070419073104858,
                        1.147304654121399,
                        0.7205190658569336,
                        1.1112477779388428,
                        0.9399765729904175,
                        1.0657081604003906,
                        1.0750842094421387,
                        0.5151782035827637,
                        0.797797441482544,
                        0.8030505180358887,
                        0.9125009775161743,
                        0.17494407296180725
                      ]
                    },
                    {
                      "axis": {
                        "matches": true
                      },
                      "label": "3",
                      "values": [
                        0.7644103765487671,
                        0.8210530281066895,
                        0.8154088258743286,
                        1.1298017501831055,
                        0.9428828954696655,
                        0.9815636873245239,
                        0.7842836380004883,
                        0.7720829248428345,
                        0.6901936531066895,
                        0.6398996114730835,
                        0.7813842296600342,
                        0.5985976457595825,
                        0.8906946182250977,
                        1.0945343971252441,
                        0.36127206683158875,
                        1.128861904144287,
                        0.8397387266159058,
                        0.9460291862487793,
                        0.8721791505813599,
                        0.5233898758888245,
                        0.8804582357406616,
                        0.9815127849578857,
                        0.5629193782806396,
                        0.8856524229049683,
                        0.9693927764892578,
                        0.7147912979125977,
                        1.053582787513733,
                        0.6678911447525024,
                        0.6303011178970337,
                        0.6016308069229126,
                        0.7298266887664795,
                        0.7452669143676758,
                        0.9378232955932617,
                        0.8473293781280518,
                        1.2498806715011597,
                        0.9785367250442505,
                        0.8970851898193359,
                        1.0978151559829712,
                        0.9123488664627075,
                        0.6348943710327148
                      ]
                    },
                    {
                      "axis": {
                        "matches": true
                      },
                      "label": "4",
                      "values": [
                        0.5707247257232666,
                        0.49896499514579773,
                        1.0978118181228638,
                        0.7975677251815796,
                        0.9799835681915283,
                        0.7058175802230835,
                        0.8029308319091797,
                        1.0060797929763794,
                        0.8511753082275391,
                        0.860588550567627,
                        0.7962092161178589,
                        0.7510104179382324,
                        0.6241816282272339,
                        0.8201419115066528,
                        1.0783928632736206,
                        0.6703400015830994,
                        0.7965736389160156,
                        0.4439733922481537,
                        0.8341130018234253,
                        0.34010836482048035,
                        1.1007059812545776,
                        0.34397533535957336,
                        0.7066206932067871,
                        0.9885870218276978,
                        0.6626957058906555,
                        0.7129472494125366,
                        0.7618080377578735,
                        0.951956033706665,
                        0.45735296607017517,
                        0.5866299867630005,
                        0.5987823009490967,
                        1.033766746520996,
                        0.9077945947647095,
                        0.7687770128250122,
                        0.8830426931381226,
                        0.9292893409729004,
                        0.8771491050720215,
                        0.7037538290023804,
                        0.48187750577926636,
                        0.6831651926040649
                      ]
                    }
                  ],
                  "hovertemplate": "label=8<br>%{xaxis.title.text}=%{x}<br>%{yaxis.title.text}=%{y}<extra></extra>",
                  "legendgroup": "8",
                  "marker": {
                    "color": "#FECB52",
                    "symbol": "circle"
                  },
                  "name": "8",
                  "showlegend": true,
                  "type": "splom"
                }
              ],
              "layout": {
                "dragmode": "select",
                "legend": {
                  "title": {
                    "text": "label"
                  },
                  "tracegroupgap": 0
                },
                "margin": {
                  "t": 60
                },
                "template": {
                  "data": {
                    "bar": [
                      {
                        "error_x": {
                          "color": "#2a3f5f"
                        },
                        "error_y": {
                          "color": "#2a3f5f"
                        },
                        "marker": {
                          "line": {
                            "color": "#E5ECF6",
                            "width": 0.5
                          },
                          "pattern": {
                            "fillmode": "overlay",
                            "size": 10,
                            "solidity": 0.2
                          }
                        },
                        "type": "bar"
                      }
                    ],
                    "barpolar": [
                      {
                        "marker": {
                          "line": {
                            "color": "#E5ECF6",
                            "width": 0.5
                          },
                          "pattern": {
                            "fillmode": "overlay",
                            "size": 10,
                            "solidity": 0.2
                          }
                        },
                        "type": "barpolar"
                      }
                    ],
                    "carpet": [
                      {
                        "aaxis": {
                          "endlinecolor": "#2a3f5f",
                          "gridcolor": "white",
                          "linecolor": "white",
                          "minorgridcolor": "white",
                          "startlinecolor": "#2a3f5f"
                        },
                        "baxis": {
                          "endlinecolor": "#2a3f5f",
                          "gridcolor": "white",
                          "linecolor": "white",
                          "minorgridcolor": "white",
                          "startlinecolor": "#2a3f5f"
                        },
                        "type": "carpet"
                      }
                    ],
                    "choropleth": [
                      {
                        "colorbar": {
                          "outlinewidth": 0,
                          "ticks": ""
                        },
                        "type": "choropleth"
                      }
                    ],
                    "contour": [
                      {
                        "colorbar": {
                          "outlinewidth": 0,
                          "ticks": ""
                        },
                        "colorscale": [
                          [
                            0,
                            "#0d0887"
                          ],
                          [
                            0.1111111111111111,
                            "#46039f"
                          ],
                          [
                            0.2222222222222222,
                            "#7201a8"
                          ],
                          [
                            0.3333333333333333,
                            "#9c179e"
                          ],
                          [
                            0.4444444444444444,
                            "#bd3786"
                          ],
                          [
                            0.5555555555555556,
                            "#d8576b"
                          ],
                          [
                            0.6666666666666666,
                            "#ed7953"
                          ],
                          [
                            0.7777777777777778,
                            "#fb9f3a"
                          ],
                          [
                            0.8888888888888888,
                            "#fdca26"
                          ],
                          [
                            1,
                            "#f0f921"
                          ]
                        ],
                        "type": "contour"
                      }
                    ],
                    "contourcarpet": [
                      {
                        "colorbar": {
                          "outlinewidth": 0,
                          "ticks": ""
                        },
                        "type": "contourcarpet"
                      }
                    ],
                    "heatmap": [
                      {
                        "colorbar": {
                          "outlinewidth": 0,
                          "ticks": ""
                        },
                        "colorscale": [
                          [
                            0,
                            "#0d0887"
                          ],
                          [
                            0.1111111111111111,
                            "#46039f"
                          ],
                          [
                            0.2222222222222222,
                            "#7201a8"
                          ],
                          [
                            0.3333333333333333,
                            "#9c179e"
                          ],
                          [
                            0.4444444444444444,
                            "#bd3786"
                          ],
                          [
                            0.5555555555555556,
                            "#d8576b"
                          ],
                          [
                            0.6666666666666666,
                            "#ed7953"
                          ],
                          [
                            0.7777777777777778,
                            "#fb9f3a"
                          ],
                          [
                            0.8888888888888888,
                            "#fdca26"
                          ],
                          [
                            1,
                            "#f0f921"
                          ]
                        ],
                        "type": "heatmap"
                      }
                    ],
                    "heatmapgl": [
                      {
                        "colorbar": {
                          "outlinewidth": 0,
                          "ticks": ""
                        },
                        "colorscale": [
                          [
                            0,
                            "#0d0887"
                          ],
                          [
                            0.1111111111111111,
                            "#46039f"
                          ],
                          [
                            0.2222222222222222,
                            "#7201a8"
                          ],
                          [
                            0.3333333333333333,
                            "#9c179e"
                          ],
                          [
                            0.4444444444444444,
                            "#bd3786"
                          ],
                          [
                            0.5555555555555556,
                            "#d8576b"
                          ],
                          [
                            0.6666666666666666,
                            "#ed7953"
                          ],
                          [
                            0.7777777777777778,
                            "#fb9f3a"
                          ],
                          [
                            0.8888888888888888,
                            "#fdca26"
                          ],
                          [
                            1,
                            "#f0f921"
                          ]
                        ],
                        "type": "heatmapgl"
                      }
                    ],
                    "histogram": [
                      {
                        "marker": {
                          "pattern": {
                            "fillmode": "overlay",
                            "size": 10,
                            "solidity": 0.2
                          }
                        },
                        "type": "histogram"
                      }
                    ],
                    "histogram2d": [
                      {
                        "colorbar": {
                          "outlinewidth": 0,
                          "ticks": ""
                        },
                        "colorscale": [
                          [
                            0,
                            "#0d0887"
                          ],
                          [
                            0.1111111111111111,
                            "#46039f"
                          ],
                          [
                            0.2222222222222222,
                            "#7201a8"
                          ],
                          [
                            0.3333333333333333,
                            "#9c179e"
                          ],
                          [
                            0.4444444444444444,
                            "#bd3786"
                          ],
                          [
                            0.5555555555555556,
                            "#d8576b"
                          ],
                          [
                            0.6666666666666666,
                            "#ed7953"
                          ],
                          [
                            0.7777777777777778,
                            "#fb9f3a"
                          ],
                          [
                            0.8888888888888888,
                            "#fdca26"
                          ],
                          [
                            1,
                            "#f0f921"
                          ]
                        ],
                        "type": "histogram2d"
                      }
                    ],
                    "histogram2dcontour": [
                      {
                        "colorbar": {
                          "outlinewidth": 0,
                          "ticks": ""
                        },
                        "colorscale": [
                          [
                            0,
                            "#0d0887"
                          ],
                          [
                            0.1111111111111111,
                            "#46039f"
                          ],
                          [
                            0.2222222222222222,
                            "#7201a8"
                          ],
                          [
                            0.3333333333333333,
                            "#9c179e"
                          ],
                          [
                            0.4444444444444444,
                            "#bd3786"
                          ],
                          [
                            0.5555555555555556,
                            "#d8576b"
                          ],
                          [
                            0.6666666666666666,
                            "#ed7953"
                          ],
                          [
                            0.7777777777777778,
                            "#fb9f3a"
                          ],
                          [
                            0.8888888888888888,
                            "#fdca26"
                          ],
                          [
                            1,
                            "#f0f921"
                          ]
                        ],
                        "type": "histogram2dcontour"
                      }
                    ],
                    "mesh3d": [
                      {
                        "colorbar": {
                          "outlinewidth": 0,
                          "ticks": ""
                        },
                        "type": "mesh3d"
                      }
                    ],
                    "parcoords": [
                      {
                        "line": {
                          "colorbar": {
                            "outlinewidth": 0,
                            "ticks": ""
                          }
                        },
                        "type": "parcoords"
                      }
                    ],
                    "pie": [
                      {
                        "automargin": true,
                        "type": "pie"
                      }
                    ],
                    "scatter": [
                      {
                        "fillpattern": {
                          "fillmode": "overlay",
                          "size": 10,
                          "solidity": 0.2
                        },
                        "type": "scatter"
                      }
                    ],
                    "scatter3d": [
                      {
                        "line": {
                          "colorbar": {
                            "outlinewidth": 0,
                            "ticks": ""
                          }
                        },
                        "marker": {
                          "colorbar": {
                            "outlinewidth": 0,
                            "ticks": ""
                          }
                        },
                        "type": "scatter3d"
                      }
                    ],
                    "scattercarpet": [
                      {
                        "marker": {
                          "colorbar": {
                            "outlinewidth": 0,
                            "ticks": ""
                          }
                        },
                        "type": "scattercarpet"
                      }
                    ],
                    "scattergeo": [
                      {
                        "marker": {
                          "colorbar": {
                            "outlinewidth": 0,
                            "ticks": ""
                          }
                        },
                        "type": "scattergeo"
                      }
                    ],
                    "scattergl": [
                      {
                        "marker": {
                          "colorbar": {
                            "outlinewidth": 0,
                            "ticks": ""
                          }
                        },
                        "type": "scattergl"
                      }
                    ],
                    "scattermapbox": [
                      {
                        "marker": {
                          "colorbar": {
                            "outlinewidth": 0,
                            "ticks": ""
                          }
                        },
                        "type": "scattermapbox"
                      }
                    ],
                    "scatterpolar": [
                      {
                        "marker": {
                          "colorbar": {
                            "outlinewidth": 0,
                            "ticks": ""
                          }
                        },
                        "type": "scatterpolar"
                      }
                    ],
                    "scatterpolargl": [
                      {
                        "marker": {
                          "colorbar": {
                            "outlinewidth": 0,
                            "ticks": ""
                          }
                        },
                        "type": "scatterpolargl"
                      }
                    ],
                    "scatterternary": [
                      {
                        "marker": {
                          "colorbar": {
                            "outlinewidth": 0,
                            "ticks": ""
                          }
                        },
                        "type": "scatterternary"
                      }
                    ],
                    "surface": [
                      {
                        "colorbar": {
                          "outlinewidth": 0,
                          "ticks": ""
                        },
                        "colorscale": [
                          [
                            0,
                            "#0d0887"
                          ],
                          [
                            0.1111111111111111,
                            "#46039f"
                          ],
                          [
                            0.2222222222222222,
                            "#7201a8"
                          ],
                          [
                            0.3333333333333333,
                            "#9c179e"
                          ],
                          [
                            0.4444444444444444,
                            "#bd3786"
                          ],
                          [
                            0.5555555555555556,
                            "#d8576b"
                          ],
                          [
                            0.6666666666666666,
                            "#ed7953"
                          ],
                          [
                            0.7777777777777778,
                            "#fb9f3a"
                          ],
                          [
                            0.8888888888888888,
                            "#fdca26"
                          ],
                          [
                            1,
                            "#f0f921"
                          ]
                        ],
                        "type": "surface"
                      }
                    ],
                    "table": [
                      {
                        "cells": {
                          "fill": {
                            "color": "#EBF0F8"
                          },
                          "line": {
                            "color": "white"
                          }
                        },
                        "header": {
                          "fill": {
                            "color": "#C8D4E3"
                          },
                          "line": {
                            "color": "white"
                          }
                        },
                        "type": "table"
                      }
                    ]
                  },
                  "layout": {
                    "annotationdefaults": {
                      "arrowcolor": "#2a3f5f",
                      "arrowhead": 0,
                      "arrowwidth": 1
                    },
                    "autotypenumbers": "strict",
                    "coloraxis": {
                      "colorbar": {
                        "outlinewidth": 0,
                        "ticks": ""
                      }
                    },
                    "colorscale": {
                      "diverging": [
                        [
                          0,
                          "#8e0152"
                        ],
                        [
                          0.1,
                          "#c51b7d"
                        ],
                        [
                          0.2,
                          "#de77ae"
                        ],
                        [
                          0.3,
                          "#f1b6da"
                        ],
                        [
                          0.4,
                          "#fde0ef"
                        ],
                        [
                          0.5,
                          "#f7f7f7"
                        ],
                        [
                          0.6,
                          "#e6f5d0"
                        ],
                        [
                          0.7,
                          "#b8e186"
                        ],
                        [
                          0.8,
                          "#7fbc41"
                        ],
                        [
                          0.9,
                          "#4d9221"
                        ],
                        [
                          1,
                          "#276419"
                        ]
                      ],
                      "sequential": [
                        [
                          0,
                          "#0d0887"
                        ],
                        [
                          0.1111111111111111,
                          "#46039f"
                        ],
                        [
                          0.2222222222222222,
                          "#7201a8"
                        ],
                        [
                          0.3333333333333333,
                          "#9c179e"
                        ],
                        [
                          0.4444444444444444,
                          "#bd3786"
                        ],
                        [
                          0.5555555555555556,
                          "#d8576b"
                        ],
                        [
                          0.6666666666666666,
                          "#ed7953"
                        ],
                        [
                          0.7777777777777778,
                          "#fb9f3a"
                        ],
                        [
                          0.8888888888888888,
                          "#fdca26"
                        ],
                        [
                          1,
                          "#f0f921"
                        ]
                      ],
                      "sequentialminus": [
                        [
                          0,
                          "#0d0887"
                        ],
                        [
                          0.1111111111111111,
                          "#46039f"
                        ],
                        [
                          0.2222222222222222,
                          "#7201a8"
                        ],
                        [
                          0.3333333333333333,
                          "#9c179e"
                        ],
                        [
                          0.4444444444444444,
                          "#bd3786"
                        ],
                        [
                          0.5555555555555556,
                          "#d8576b"
                        ],
                        [
                          0.6666666666666666,
                          "#ed7953"
                        ],
                        [
                          0.7777777777777778,
                          "#fb9f3a"
                        ],
                        [
                          0.8888888888888888,
                          "#fdca26"
                        ],
                        [
                          1,
                          "#f0f921"
                        ]
                      ]
                    },
                    "colorway": [
                      "#636efa",
                      "#EF553B",
                      "#00cc96",
                      "#ab63fa",
                      "#FFA15A",
                      "#19d3f3",
                      "#FF6692",
                      "#B6E880",
                      "#FF97FF",
                      "#FECB52"
                    ],
                    "font": {
                      "color": "#2a3f5f"
                    },
                    "geo": {
                      "bgcolor": "white",
                      "lakecolor": "white",
                      "landcolor": "#E5ECF6",
                      "showlakes": true,
                      "showland": true,
                      "subunitcolor": "white"
                    },
                    "hoverlabel": {
                      "align": "left"
                    },
                    "hovermode": "closest",
                    "mapbox": {
                      "style": "light"
                    },
                    "paper_bgcolor": "white",
                    "plot_bgcolor": "#E5ECF6",
                    "polar": {
                      "angularaxis": {
                        "gridcolor": "white",
                        "linecolor": "white",
                        "ticks": ""
                      },
                      "bgcolor": "#E5ECF6",
                      "radialaxis": {
                        "gridcolor": "white",
                        "linecolor": "white",
                        "ticks": ""
                      }
                    },
                    "scene": {
                      "xaxis": {
                        "backgroundcolor": "#E5ECF6",
                        "gridcolor": "white",
                        "gridwidth": 2,
                        "linecolor": "white",
                        "showbackground": true,
                        "ticks": "",
                        "zerolinecolor": "white"
                      },
                      "yaxis": {
                        "backgroundcolor": "#E5ECF6",
                        "gridcolor": "white",
                        "gridwidth": 2,
                        "linecolor": "white",
                        "showbackground": true,
                        "ticks": "",
                        "zerolinecolor": "white"
                      },
                      "zaxis": {
                        "backgroundcolor": "#E5ECF6",
                        "gridcolor": "white",
                        "gridwidth": 2,
                        "linecolor": "white",
                        "showbackground": true,
                        "ticks": "",
                        "zerolinecolor": "white"
                      }
                    },
                    "shapedefaults": {
                      "line": {
                        "color": "#2a3f5f"
                      }
                    },
                    "ternary": {
                      "aaxis": {
                        "gridcolor": "white",
                        "linecolor": "white",
                        "ticks": ""
                      },
                      "baxis": {
                        "gridcolor": "white",
                        "linecolor": "white",
                        "ticks": ""
                      },
                      "bgcolor": "#E5ECF6",
                      "caxis": {
                        "gridcolor": "white",
                        "linecolor": "white",
                        "ticks": ""
                      }
                    },
                    "title": {
                      "x": 0.05
                    },
                    "xaxis": {
                      "automargin": true,
                      "gridcolor": "white",
                      "linecolor": "white",
                      "ticks": "",
                      "title": {
                        "standoff": 15
                      },
                      "zerolinecolor": "white",
                      "zerolinewidth": 2
                    },
                    "yaxis": {
                      "automargin": true,
                      "gridcolor": "white",
                      "linecolor": "white",
                      "ticks": "",
                      "title": {
                        "standoff": 15
                      },
                      "zerolinecolor": "white",
                      "zerolinewidth": 2
                    }
                  }
                }
              }
            }
          },
          "metadata": {},
          "output_type": "display_data"
        }
      ],
      "source": [
        "import plotly.express as px\n",
        "\n",
        "fig = px.scatter_matrix(valores, dimensions=list(valores.drop(columns=['label']).keys()), color='label')\n",
        "fig.show()"
      ]
    },
    {
      "cell_type": "markdown",
      "metadata": {
        "id": "4QdieuVXQwbF"
      },
      "source": [
        "##Amostragem\n",
        "Outra aplicação interessante dos AutoEncoders é a capacidade de \"gerar\" informação baseado em uma entrada com números aleatórios.\n",
        "As imagens apresentadas não existem em nosso conjunto de dados, e foram geradas baseadas em uma entrada aleatória."
      ]
    },
    {
      "cell_type": "code",
      "execution_count": null,
      "metadata": {
        "id": "JEAqzB2mQwbF",
        "outputId": "e0ccf3b4-8814-42e4-9935-591ece367674"
      },
      "outputs": [
        {
          "data": {
            "image/png": "[encoded data removed]",
            "text/plain": [
              "<Figure size 1000x400 with 5 Axes>"
            ]
          },
          "metadata": {},
          "output_type": "display_data"
        }
      ],
      "source": [
        "display([AE.amostra(5)],5)"
      ]
    },
    {
      "cell_type": "markdown",
      "metadata": {
        "id": "gYgwxJN-WmxT"
      },
      "source": [
        "#Remoção de Ruído"
      ]
    },
    {
      "cell_type": "markdown",
      "metadata": {
        "id": "QGyD10EYQwbF"
      },
      "source": [
        "A função ```ruido``` adiciona ruído às imagens de entrada, com intensidade controlada pelo parâmetro intensidade, e, em seguida, garante que os valores resultantes estejam dentro do intervalo válido [0, 1]."
      ]
    },
    {
      "cell_type": "code",
      "execution_count": null,
      "metadata": {
        "id": "-xrzhbTgu5V8"
      },
      "outputs": [],
      "source": [
        "def ruido(imagens):\n",
        "    intensidade = 0.4\n",
        "    imagens_ruidosas = imagens + intensidade * np.random.normal(\n",
        "        loc=0.0, scale=1.0, size=imagens.shape\n",
        "    )\n",
        "\n",
        "    return np.clip(imagens_ruidosas, 0.0, 1.0)"
      ]
    },
    {
      "cell_type": "markdown",
      "metadata": {
        "id": "mE4lPcKZQwbG"
      },
      "source": [
        "Vamos adicionar ruido em nossas imagens"
      ]
    },
    {
      "cell_type": "code",
      "execution_count": null,
      "metadata": {
        "id": "LyxDI4p6QwbG",
        "outputId": "f2ee6919-9d2c-49a7-e107-67634046e1ac"
      },
      "outputs": [
        {
          "data": {
            "image/png": "[encoded data removed]",
            "text/plain": [
              "<Figure size 1000x400 with 5 Axes>"
            ]
          },
          "metadata": {},
          "output_type": "display_data"
        },
        {
          "data": {
            "image/png": "[encoded data removed]",
            "text/plain": [
              "<Figure size 1000x400 with 5 Axes>"
            ]
          },
          "metadata": {},
          "output_type": "display_data"
        }
      ],
      "source": [
        "train_data_ruidoso = ruido(train_data)\n",
        "test_data_ruidoso = ruido(test_data)\n",
        "\n",
        "display([train_data, train_data_ruidoso],mostra_imagens)"
      ]
    },
    {
      "cell_type": "markdown",
      "metadata": {
        "id": "pCnK5EyZQwbG"
      },
      "source": [
        "##AutoEncoder\n",
        "Vamos utilizar a mesma arquitetura de AutoEncoder, porém vamos \"resetar\" o seu progresso de aprendizagem"
      ]
    },
    {
      "cell_type": "code",
      "execution_count": null,
      "metadata": {
        "id": "wbinPVXJleJc"
      },
      "outputs": [],
      "source": [
        "AE_Ruido = AutoEncoder(dimensoes_imagem, z, 1)"
      ]
    },
    {
      "cell_type": "code",
      "execution_count": null,
      "metadata": {
        "id": "VoVCz0nyQwbG"
      },
      "outputs": [],
      "source": [
        "AE_Ruido.compile(optimizer=\"adam\", loss=\"binary_crossentropy\", metrics=['mae'])"
      ]
    },
    {
      "cell_type": "markdown",
      "metadata": {
        "id": "ls_rEKamQwbG"
      },
      "source": [
        "##Treinamento do modelo"
      ]
    },
    {
      "cell_type": "code",
      "execution_count": null,
      "metadata": {
        "id": "aKyBBD6rlH7E",
        "outputId": "318443e4-f0e5-4885-eeb7-0109dcd64fa2"
      },
      "outputs": [
        {
          "name": "stdout",
          "output_type": "stream",
          "text": [
            "Epoch 1/50\n",
            "469/469 [==============================] - 2s 4ms/step - loss: 0.2481 - mae: 0.1374 - val_loss: 0.2096 - val_mae: 0.1172\n",
            "Epoch 2/50\n",
            "469/469 [==============================] - 1s 3ms/step - loss: 0.2017 - mae: 0.1111 - val_loss: 0.1928 - val_mae: 0.1053\n",
            "Epoch 3/50\n",
            "469/469 [==============================] - 1s 3ms/step - loss: 0.2001 - mae: 0.1084 - val_loss: 0.1894 - val_mae: 0.1021\n",
            "Epoch 4/50\n",
            "469/469 [==============================] - 1s 3ms/step - loss: 0.1861 - mae: 0.1003 - val_loss: 0.1811 - val_mae: 0.0955\n",
            "Epoch 5/50\n",
            "469/469 [==============================] - 1s 3ms/step - loss: 0.1833 - mae: 0.0982 - val_loss: 0.1765 - val_mae: 0.0936\n",
            "Epoch 6/50\n",
            "469/469 [==============================] - 1s 3ms/step - loss: 0.1893 - mae: 0.1026 - val_loss: 0.1780 - val_mae: 0.0957\n",
            "Epoch 7/50\n",
            "469/469 [==============================] - 1s 3ms/step - loss: 0.1792 - mae: 0.0957 - val_loss: 0.1748 - val_mae: 0.0929\n",
            "Epoch 8/50\n",
            "469/469 [==============================] - 1s 3ms/step - loss: 0.1901 - mae: 0.1006 - val_loss: 0.1880 - val_mae: 0.1024\n",
            "Epoch 9/50\n",
            "469/469 [==============================] - 1s 3ms/step - loss: 0.1859 - mae: 0.1006 - val_loss: 0.1793 - val_mae: 0.0954\n",
            "Epoch 10/50\n",
            "469/469 [==============================] - 1s 3ms/step - loss: 0.1870 - mae: 0.1011 - val_loss: 0.1826 - val_mae: 0.0992\n",
            "Epoch 11/50\n",
            "469/469 [==============================] - 1s 3ms/step - loss: 0.1815 - mae: 0.0977 - val_loss: 0.1784 - val_mae: 0.0961\n",
            "Epoch 12/50\n",
            "469/469 [==============================] - 1s 3ms/step - loss: 0.1789 - mae: 0.0956 - val_loss: 0.2190 - val_mae: 0.1086\n",
            "Epoch 13/50\n",
            "469/469 [==============================] - 1s 3ms/step - loss: 0.1786 - mae: 0.0954 - val_loss: 0.1756 - val_mae: 0.0950\n",
            "Epoch 14/50\n",
            "469/469 [==============================] - 1s 3ms/step - loss: 0.1886 - mae: 0.1012 - val_loss: 0.1822 - val_mae: 0.0981\n",
            "Epoch 15/50\n",
            "469/469 [==============================] - 1s 3ms/step - loss: 0.1776 - mae: 0.0947 - val_loss: 0.2202 - val_mae: 0.1112\n",
            "Epoch 16/50\n",
            "469/469 [==============================] - 1s 3ms/step - loss: 0.1887 - mae: 0.1016 - val_loss: 0.1767 - val_mae: 0.0938\n",
            "Epoch 17/50\n",
            "469/469 [==============================] - 1s 3ms/step - loss: 0.1840 - mae: 0.0975 - val_loss: 0.1884 - val_mae: 0.1036\n",
            "Epoch 18/50\n",
            "469/469 [==============================] - 1s 3ms/step - loss: 0.1814 - mae: 0.0979 - val_loss: 0.1773 - val_mae: 0.0960\n",
            "Epoch 19/50\n",
            "469/469 [==============================] - 1s 3ms/step - loss: 0.1762 - mae: 0.0939 - val_loss: 0.1758 - val_mae: 0.0939\n",
            "Epoch 20/50\n",
            "469/469 [==============================] - 1s 3ms/step - loss: 0.1774 - mae: 0.0943 - val_loss: 0.1734 - val_mae: 0.0926\n",
            "Epoch 21/50\n",
            "469/469 [==============================] - 1s 3ms/step - loss: 0.1745 - mae: 0.0927 - val_loss: 0.1728 - val_mae: 0.0929\n",
            "Epoch 22/50\n",
            "469/469 [==============================] - 1s 3ms/step - loss: 0.1758 - mae: 0.0935 - val_loss: 0.1739 - val_mae: 0.0914\n",
            "Epoch 23/50\n",
            "469/469 [==============================] - 1s 3ms/step - loss: 0.1760 - mae: 0.0935 - val_loss: 0.1743 - val_mae: 0.0929\n",
            "Epoch 24/50\n",
            "469/469 [==============================] - 1s 3ms/step - loss: 0.1752 - mae: 0.0927 - val_loss: 0.1759 - val_mae: 0.0927\n",
            "Epoch 25/50\n",
            "469/469 [==============================] - 1s 3ms/step - loss: 0.1722 - mae: 0.0904 - val_loss: 0.1688 - val_mae: 0.0880\n",
            "Epoch 26/50\n",
            "469/469 [==============================] - 1s 3ms/step - loss: 0.1877 - mae: 0.0995 - val_loss: 0.1755 - val_mae: 0.0939\n",
            "Epoch 27/50\n",
            "469/469 [==============================] - 1s 3ms/step - loss: 0.1752 - mae: 0.0928 - val_loss: 0.1731 - val_mae: 0.0922\n",
            "Epoch 28/50\n",
            "469/469 [==============================] - 1s 3ms/step - loss: 0.1714 - mae: 0.0901 - val_loss: 0.1696 - val_mae: 0.0894\n",
            "Epoch 29/50\n",
            "469/469 [==============================] - 1s 3ms/step - loss: 0.1885 - mae: 0.0997 - val_loss: 0.1912 - val_mae: 0.1037\n",
            "Epoch 30/50\n",
            "469/469 [==============================] - 1s 3ms/step - loss: 0.1795 - mae: 0.0962 - val_loss: 0.1780 - val_mae: 0.0950\n",
            "Epoch 31/50\n",
            "469/469 [==============================] - 1s 3ms/step - loss: 0.1926 - mae: 0.1030 - val_loss: 0.1801 - val_mae: 0.0957\n",
            "Epoch 32/50\n",
            "469/469 [==============================] - 1s 3ms/step - loss: 0.1954 - mae: 0.1039 - val_loss: 0.1944 - val_mae: 0.1076\n",
            "Epoch 33/50\n",
            "469/469 [==============================] - 1s 3ms/step - loss: 0.1846 - mae: 0.0997 - val_loss: 0.1789 - val_mae: 0.0979\n",
            "Epoch 34/50\n",
            "469/469 [==============================] - 1s 3ms/step - loss: 0.1845 - mae: 0.0986 - val_loss: 0.1960 - val_mae: 0.1065\n",
            "Epoch 35/50\n",
            "469/469 [==============================] - 1s 3ms/step - loss: 0.1805 - mae: 0.0964 - val_loss: 0.1772 - val_mae: 0.0953\n",
            "Epoch 36/50\n",
            "469/469 [==============================] - 1s 3ms/step - loss: 0.1804 - mae: 0.0967 - val_loss: 0.1756 - val_mae: 0.0934\n",
            "Epoch 37/50\n",
            "469/469 [==============================] - 1s 3ms/step - loss: 0.1763 - mae: 0.0937 - val_loss: 0.1745 - val_mae: 0.0927\n",
            "Epoch 38/50\n",
            "469/469 [==============================] - 1s 3ms/step - loss: 0.1756 - mae: 0.0934 - val_loss: 0.1734 - val_mae: 0.0916\n",
            "Epoch 39/50\n",
            "469/469 [==============================] - 1s 3ms/step - loss: 0.1819 - mae: 0.0978 - val_loss: 0.1778 - val_mae: 0.0943\n",
            "Epoch 40/50\n",
            "469/469 [==============================] - 1s 3ms/step - loss: 0.1762 - mae: 0.0937 - val_loss: 0.1737 - val_mae: 0.0916\n",
            "Epoch 41/50\n",
            "469/469 [==============================] - 1s 3ms/step - loss: 0.1806 - mae: 0.0971 - val_loss: 0.1773 - val_mae: 0.0955\n",
            "Epoch 42/50\n",
            "469/469 [==============================] - 1s 3ms/step - loss: 0.1803 - mae: 0.0972 - val_loss: 0.1746 - val_mae: 0.0926\n",
            "Epoch 43/50\n",
            "469/469 [==============================] - 1s 3ms/step - loss: 0.1750 - mae: 0.0928 - val_loss: 0.1715 - val_mae: 0.0902\n",
            "Epoch 44/50\n",
            "469/469 [==============================] - 1s 3ms/step - loss: 0.1719 - mae: 0.0907 - val_loss: 0.1699 - val_mae: 0.0892\n",
            "Epoch 45/50\n",
            "469/469 [==============================] - 1s 3ms/step - loss: 0.1981 - mae: 0.1061 - val_loss: 0.1815 - val_mae: 0.0980\n",
            "Epoch 46/50\n",
            "469/469 [==============================] - 1s 3ms/step - loss: 0.1834 - mae: 0.0987 - val_loss: 0.1805 - val_mae: 0.0973\n",
            "Epoch 47/50\n",
            "469/469 [==============================] - 1s 3ms/step - loss: 0.1758 - mae: 0.0933 - val_loss: 0.1731 - val_mae: 0.0932\n",
            "Epoch 48/50\n",
            "469/469 [==============================] - 1s 3ms/step - loss: 0.1726 - mae: 0.0909 - val_loss: 0.1713 - val_mae: 0.0913\n",
            "Epoch 49/50\n",
            "469/469 [==============================] - 1s 3ms/step - loss: 0.1739 - mae: 0.0920 - val_loss: 0.1749 - val_mae: 0.0926\n",
            "Epoch 50/50\n",
            "469/469 [==============================] - 2s 4ms/step - loss: 0.1733 - mae: 0.0912 - val_loss: 0.1741 - val_mae: 0.0923\n"
          ]
        }
      ],
      "source": [
        "AE_Ruido.fit(\n",
        "    x=train_data_ruidoso,\n",
        "    y=train_data,\n",
        "    epochs=50,\n",
        "    batch_size=128,\n",
        "    shuffle=True,\n",
        "    validation_data=(test_data_ruidoso, test_data),\n",
        ")"
      ]
    },
    {
      "cell_type": "markdown",
      "metadata": {
        "id": "I6nBsq9hQwbG"
      },
      "source": [
        "##Resultados\n",
        "As imagens geradas possuem menos ruídos em relação às imagens de entrada"
      ]
    },
    {
      "cell_type": "code",
      "execution_count": null,
      "metadata": {
        "id": "YQJta2ZklH7E",
        "outputId": "15a5eee6-8a9c-4122-c375-037be17f67d0"
      },
      "outputs": [
        {
          "name": "stdout",
          "output_type": "stream",
          "text": [
            "313/313 [==============================] - 1s 2ms/step\n"
          ]
        },
        {
          "data": {
            "image/png": "[encoded data removed]",
            "text/plain": [
              "<Figure size 1000x400 with 5 Axes>"
            ]
          },
          "metadata": {},
          "output_type": "display_data"
        },
        {
          "data": {
            "image/png": "[encoded data removed]",
            "text/plain": [
              "<Figure size 1000x400 with 5 Axes>"
            ]
          },
          "metadata": {},
          "output_type": "display_data"
        }
      ],
      "source": [
        "predictions = AE_Ruido.predict(test_data_ruidoso)\n",
        "\n",
        "display([test_data_ruidoso, predictions], 5)"
      ]
    },
    {
      "cell_type": "markdown",
      "metadata": {
        "id": "PKKvI5dDQwbG"
      },
      "source": [
        "#Recolorir imagens\n",
        "Os autoencoders são capazes de recolorir imagens em tons de cinza através do aprendizado de representações latentes (z) e da associação de padrões visuais a cores. Eles oferecem uma abordagem interessante para a melhoria visual de imagens e podem ser usados em uma variedade de aplicações, como a restauração de fotografias antigas e a criação de versões coloridas de imagens em tons de cinza."
      ]
    },
    {
      "cell_type": "markdown",
      "metadata": {
        "id": "EMidiV9EQwbG"
      },
      "source": [
        "Novas dimensões e novo z, uma vez que vamos usar 3 canais (RGB)"
      ]
    },
    {
      "cell_type": "code",
      "execution_count": null,
      "metadata": {
        "id": "m_fl1oGoQwbG"
      },
      "outputs": [],
      "source": [
        "dimensoes_imagem=(32, 32, 1) #@param\n",
        "z = 512 #@param"
      ]
    },
    {
      "cell_type": "markdown",
      "metadata": {
        "id": "hDjQsImtQwbG"
      },
      "source": [
        "##Carrega o dataset"
      ]
    },
    {
      "cell_type": "code",
      "execution_count": null,
      "metadata": {
        "id": "NVnukMCPQwbG"
      },
      "outputs": [],
      "source": [
        "from tensorflow.keras.datasets import cifar10\n",
        "\n",
        "(train_data, train_label), (test_data, test_label) = cifar10.load_data()"
      ]
    },
    {
      "cell_type": "markdown",
      "metadata": {
        "id": "viUZ1-lbQwbG"
      },
      "source": [
        "##Tons de Cinza\n",
        "Esta função transforma uma imagem RGB em uma imagem com 3 canais iguais, gerando assim uma imagem com tons de cinza<br>\n",
        "<a href=\"https://support.ptc.com/help/mathcad/r9.0/en/index.html#page/PTC_Mathcad_Help/example_grayscale_and_color_in_images.html\">The RGB values are converted to grayscale using the NTSC formula: 0.299 ∙ Red + 0.587 ∙ Green + 0.114 ∙ Blue. This formula closely represents the average person's relative perception of the brightness of red, green, and blue light.</a>"
      ]
    },
    {
      "cell_type": "code",
      "execution_count": null,
      "metadata": {
        "id": "oOowYZE6QwbG"
      },
      "outputs": [],
      "source": [
        "def tons_de_cinza(data):\n",
        "    cinza = 0.299 * data[..., 0] + 0.587 * data[..., 1] + 0.144 * data[..., 2]\n",
        "    return cinza"
      ]
    },
    {
      "cell_type": "markdown",
      "metadata": {
        "id": "facKOs_4QwbG"
      },
      "source": [
        "##Organiza o dataset"
      ]
    },
    {
      "cell_type": "code",
      "execution_count": null,
      "metadata": {
        "id": "7LohMRPOQwbG"
      },
      "outputs": [],
      "source": [
        "train_input_data = preprocessamento(train_data, (32,32,3))\n",
        "train_output_data = preprocessamento(train_data, (32,32,3))\n",
        "train_input_data = tons_de_cinza(train_input_data)\n",
        "\n",
        "test_input_data = preprocessamento(test_data, (32,32,3))\n",
        "test_output_data = preprocessamento(test_data, (32,32,3))\n",
        "test_input_data = tons_de_cinza(test_input_data)"
      ]
    },
    {
      "cell_type": "code",
      "execution_count": null,
      "metadata": {
        "id": "kxvHRW8BQwbH",
        "outputId": "b5f81204-cbba-42dd-889a-1efe6ddc0d55"
      },
      "outputs": [
        {
          "data": {
            "image/png": "[encoded data removed]",
            "text/plain": [
              "<Figure size 1000x400 with 5 Axes>"
            ]
          },
          "metadata": {},
          "output_type": "display_data"
        },
        {
          "data": {
            "image/png": "[encoded data removed]",
            "text/plain": [
              "<Figure size 1000x400 with 5 Axes>"
            ]
          },
          "metadata": {},
          "output_type": "display_data"
        }
      ],
      "source": [
        "display([train_input_data, train_output_data], mostra_imagens)"
      ]
    },
    {
      "cell_type": "code",
      "execution_count": null,
      "metadata": {
        "id": "06CYQDpIQwbH"
      },
      "outputs": [],
      "source": [
        "AE_Colorido = AutoEncoder(dimensoes_imagem, z, 3, 'sigmoid')\n",
        "AE_Colorido.compile(optimizer=\"adam\", loss=\"mse\", metrics=['mae'])"
      ]
    },
    {
      "cell_type": "code",
      "execution_count": null,
      "metadata": {
        "id": "RtwYyjgNQwbH",
        "outputId": "5883597f-e415-49da-f776-75174ce61581"
      },
      "outputs": [
        {
          "name": "stdout",
          "output_type": "stream",
          "text": [
            "Model: \"model_30\"\n",
            "_________________________________________________________________\n",
            " Layer (type)                Output Shape              Param #   \n",
            "=================================================================\n",
            " input_23 (InputLayer)       [(None, 32, 32, 1)]       0         \n",
            "                                                                 \n",
            " conv2d_33 (Conv2D)          (None, 32, 32, 32)        320       \n",
            "                                                                 \n",
            " max_pooling2d_22 (MaxPoolin  (None, 16, 16, 32)       0         \n",
            " g2D)                                                            \n",
            "                                                                 \n",
            " conv2d_34 (Conv2D)          (None, 16, 16, 32)        9248      \n",
            "                                                                 \n",
            " max_pooling2d_23 (MaxPoolin  (None, 8, 8, 32)         0         \n",
            " g2D)                                                            \n",
            "                                                                 \n",
            " flatten_11 (Flatten)        (None, 2048)              0         \n",
            "                                                                 \n",
            " dense_22 (Dense)            (None, 512)               1049088   \n",
            "                                                                 \n",
            "=================================================================\n",
            "Total params: 1,058,656\n",
            "Trainable params: 1,058,656\n",
            "Non-trainable params: 0\n",
            "_________________________________________________________________\n",
            "Model: \"model_31\"\n",
            "_________________________________________________________________\n",
            " Layer (type)                Output Shape              Param #   \n",
            "=================================================================\n",
            " input_24 (InputLayer)       [(None, 512)]             0         \n",
            "                                                                 \n",
            " dense_23 (Dense)            (None, 2048)              1050624   \n",
            "                                                                 \n",
            " reshape_11 (Reshape)        (None, 8, 8, 32)          0         \n",
            "                                                                 \n",
            " conv2d_transpose_22 (Conv2D  (None, 16, 16, 32)       9248      \n",
            " Transpose)                                                      \n",
            "                                                                 \n",
            " conv2d_transpose_23 (Conv2D  (None, 32, 32, 32)       9248      \n",
            " Transpose)                                                      \n",
            "                                                                 \n",
            " conv2d_35 (Conv2D)          (None, 32, 32, 3)         867       \n",
            "                                                                 \n",
            "=================================================================\n",
            "Total params: 1,069,987\n",
            "Trainable params: 1,069,987\n",
            "Non-trainable params: 0\n",
            "_________________________________________________________________\n"
          ]
        }
      ],
      "source": [
        "AE_Colorido.summary()"
      ]
    },
    {
      "cell_type": "markdown",
      "metadata": {
        "id": "mQQWN2epQwbH"
      },
      "source": [
        "##Treina o modelo"
      ]
    },
    {
      "cell_type": "code",
      "execution_count": null,
      "metadata": {
        "id": "chrs_xUXQwbH",
        "outputId": "516031d2-1242-4bb7-e847-0ab9042ea09c"
      },
      "outputs": [
        {
          "name": "stdout",
          "output_type": "stream",
          "text": [
            "Epoch 1/50\n",
            "391/391 [==============================] - 2s 5ms/step - loss: 0.0240 - mae: 0.1169 - val_loss: 0.0151 - val_mae: 0.0920\n",
            "Epoch 2/50\n",
            "391/391 [==============================] - 1s 3ms/step - loss: 0.0137 - mae: 0.0871 - val_loss: 0.0126 - val_mae: 0.0835\n",
            "Epoch 3/50\n",
            "391/391 [==============================] - 1s 3ms/step - loss: 0.0119 - mae: 0.0807 - val_loss: 0.0113 - val_mae: 0.0788\n",
            "Epoch 4/50\n",
            "391/391 [==============================] - 1s 3ms/step - loss: 0.0110 - mae: 0.0771 - val_loss: 0.0110 - val_mae: 0.0773\n",
            "Epoch 5/50\n",
            "391/391 [==============================] - 1s 3ms/step - loss: 0.0104 - mae: 0.0751 - val_loss: 0.0104 - val_mae: 0.0749\n",
            "Epoch 6/50\n",
            "391/391 [==============================] - 1s 3ms/step - loss: 0.0100 - mae: 0.0732 - val_loss: 0.0099 - val_mae: 0.0731\n",
            "Epoch 7/50\n",
            "391/391 [==============================] - 1s 3ms/step - loss: 0.0097 - mae: 0.0719 - val_loss: 0.0101 - val_mae: 0.0746\n",
            "Epoch 8/50\n",
            "391/391 [==============================] - 1s 3ms/step - loss: 0.0094 - mae: 0.0710 - val_loss: 0.0093 - val_mae: 0.0703\n",
            "Epoch 9/50\n",
            "391/391 [==============================] - 1s 3ms/step - loss: 0.0092 - mae: 0.0700 - val_loss: 0.0092 - val_mae: 0.0703\n",
            "Epoch 10/50\n",
            "391/391 [==============================] - 1s 3ms/step - loss: 0.0090 - mae: 0.0693 - val_loss: 0.0091 - val_mae: 0.0697\n",
            "Epoch 11/50\n",
            "391/391 [==============================] - 1s 3ms/step - loss: 0.0088 - mae: 0.0684 - val_loss: 0.0093 - val_mae: 0.0703\n",
            "Epoch 12/50\n",
            "391/391 [==============================] - 1s 3ms/step - loss: 0.0087 - mae: 0.0679 - val_loss: 0.0088 - val_mae: 0.0681\n",
            "Epoch 13/50\n",
            "391/391 [==============================] - 1s 3ms/step - loss: 0.0085 - mae: 0.0672 - val_loss: 0.0088 - val_mae: 0.0682\n",
            "Epoch 14/50\n",
            "391/391 [==============================] - 1s 3ms/step - loss: 0.0084 - mae: 0.0667 - val_loss: 0.0087 - val_mae: 0.0677\n",
            "Epoch 15/50\n",
            "391/391 [==============================] - 1s 3ms/step - loss: 0.0083 - mae: 0.0663 - val_loss: 0.0086 - val_mae: 0.0672\n",
            "Epoch 16/50\n",
            "391/391 [==============================] - 1s 3ms/step - loss: 0.0082 - mae: 0.0656 - val_loss: 0.0085 - val_mae: 0.0664\n",
            "Epoch 17/50\n",
            "391/391 [==============================] - 1s 3ms/step - loss: 0.0081 - mae: 0.0653 - val_loss: 0.0084 - val_mae: 0.0662\n",
            "Epoch 18/50\n",
            "391/391 [==============================] - 1s 3ms/step - loss: 0.0080 - mae: 0.0648 - val_loss: 0.0082 - val_mae: 0.0658\n",
            "Epoch 19/50\n",
            "391/391 [==============================] - 1s 3ms/step - loss: 0.0079 - mae: 0.0643 - val_loss: 0.0082 - val_mae: 0.0654\n",
            "Epoch 20/50\n",
            "391/391 [==============================] - 1s 3ms/step - loss: 0.0078 - mae: 0.0640 - val_loss: 0.0082 - val_mae: 0.0652\n",
            "Epoch 21/50\n",
            "391/391 [==============================] - 1s 3ms/step - loss: 0.0077 - mae: 0.0637 - val_loss: 0.0081 - val_mae: 0.0654\n",
            "Epoch 22/50\n",
            "391/391 [==============================] - 1s 3ms/step - loss: 0.0076 - mae: 0.0632 - val_loss: 0.0081 - val_mae: 0.0652\n",
            "Epoch 23/50\n",
            "391/391 [==============================] - 1s 3ms/step - loss: 0.0075 - mae: 0.0628 - val_loss: 0.0081 - val_mae: 0.0651\n",
            "Epoch 24/50\n",
            "391/391 [==============================] - 1s 3ms/step - loss: 0.0074 - mae: 0.0624 - val_loss: 0.0080 - val_mae: 0.0643\n",
            "Epoch 25/50\n",
            "391/391 [==============================] - 1s 3ms/step - loss: 0.0073 - mae: 0.0620 - val_loss: 0.0082 - val_mae: 0.0652\n",
            "Epoch 26/50\n",
            "391/391 [==============================] - 1s 3ms/step - loss: 0.0072 - mae: 0.0616 - val_loss: 0.0082 - val_mae: 0.0652\n",
            "Epoch 27/50\n",
            "391/391 [==============================] - 1s 3ms/step - loss: 0.0071 - mae: 0.0612 - val_loss: 0.0081 - val_mae: 0.0647\n",
            "Epoch 28/50\n",
            "391/391 [==============================] - 1s 3ms/step - loss: 0.0070 - mae: 0.0610 - val_loss: 0.0084 - val_mae: 0.0663\n",
            "Epoch 29/50\n",
            "391/391 [==============================] - 1s 3ms/step - loss: 0.0069 - mae: 0.0605 - val_loss: 0.0081 - val_mae: 0.0648\n",
            "Epoch 30/50\n",
            "391/391 [==============================] - 1s 3ms/step - loss: 0.0069 - mae: 0.0603 - val_loss: 0.0081 - val_mae: 0.0646\n",
            "Epoch 31/50\n",
            "391/391 [==============================] - 1s 3ms/step - loss: 0.0068 - mae: 0.0599 - val_loss: 0.0082 - val_mae: 0.0653\n",
            "Epoch 32/50\n",
            "391/391 [==============================] - 1s 3ms/step - loss: 0.0067 - mae: 0.0595 - val_loss: 0.0080 - val_mae: 0.0639\n",
            "Epoch 33/50\n",
            "391/391 [==============================] - 1s 3ms/step - loss: 0.0066 - mae: 0.0593 - val_loss: 0.0080 - val_mae: 0.0642\n",
            "Epoch 34/50\n",
            "391/391 [==============================] - 1s 3ms/step - loss: 0.0065 - mae: 0.0589 - val_loss: 0.0081 - val_mae: 0.0647\n",
            "Epoch 35/50\n",
            "391/391 [==============================] - 1s 3ms/step - loss: 0.0065 - mae: 0.0585 - val_loss: 0.0082 - val_mae: 0.0651\n",
            "Epoch 36/50\n",
            "391/391 [==============================] - 1s 3ms/step - loss: 0.0064 - mae: 0.0581 - val_loss: 0.0080 - val_mae: 0.0641\n",
            "Epoch 37/50\n",
            "391/391 [==============================] - 1s 3ms/step - loss: 0.0063 - mae: 0.0579 - val_loss: 0.0080 - val_mae: 0.0643\n",
            "Epoch 38/50\n",
            "391/391 [==============================] - 1s 3ms/step - loss: 0.0062 - mae: 0.0575 - val_loss: 0.0081 - val_mae: 0.0645\n",
            "Epoch 39/50\n",
            "391/391 [==============================] - 1s 3ms/step - loss: 0.0062 - mae: 0.0572 - val_loss: 0.0081 - val_mae: 0.0643\n",
            "Epoch 40/50\n",
            "391/391 [==============================] - 1s 3ms/step - loss: 0.0061 - mae: 0.0569 - val_loss: 0.0080 - val_mae: 0.0639\n",
            "Epoch 41/50\n",
            "391/391 [==============================] - 1s 3ms/step - loss: 0.0060 - mae: 0.0566 - val_loss: 0.0081 - val_mae: 0.0644\n",
            "Epoch 42/50\n",
            "391/391 [==============================] - 1s 3ms/step - loss: 0.0060 - mae: 0.0564 - val_loss: 0.0081 - val_mae: 0.0641\n",
            "Epoch 43/50\n",
            "391/391 [==============================] - 1s 3ms/step - loss: 0.0059 - mae: 0.0560 - val_loss: 0.0085 - val_mae: 0.0661\n",
            "Epoch 44/50\n",
            "391/391 [==============================] - 1s 3ms/step - loss: 0.0058 - mae: 0.0557 - val_loss: 0.0080 - val_mae: 0.0638\n",
            "Epoch 45/50\n",
            "391/391 [==============================] - 1s 3ms/step - loss: 0.0058 - mae: 0.0556 - val_loss: 0.0080 - val_mae: 0.0636\n",
            "Epoch 46/50\n",
            "391/391 [==============================] - 1s 3ms/step - loss: 0.0057 - mae: 0.0552 - val_loss: 0.0081 - val_mae: 0.0640\n",
            "Epoch 47/50\n",
            "391/391 [==============================] - 1s 3ms/step - loss: 0.0057 - mae: 0.0550 - val_loss: 0.0080 - val_mae: 0.0637\n",
            "Epoch 48/50\n",
            "391/391 [==============================] - 1s 3ms/step - loss: 0.0057 - mae: 0.0550 - val_loss: 0.0080 - val_mae: 0.0640\n",
            "Epoch 49/50\n",
            "391/391 [==============================] - 1s 3ms/step - loss: 0.0056 - mae: 0.0545 - val_loss: 0.0082 - val_mae: 0.0645\n",
            "Epoch 50/50\n",
            "391/391 [==============================] - 1s 3ms/step - loss: 0.0055 - mae: 0.0543 - val_loss: 0.0082 - val_mae: 0.0648\n"
          ]
        }
      ],
      "source": [
        "AE_Colorido.fit(\n",
        "    x=train_input_data,\n",
        "    y=train_output_data,\n",
        "    epochs=50,\n",
        "    batch_size=128,\n",
        "    shuffle=True,\n",
        "    validation_data=(test_input_data, test_output_data),\n",
        ")"
      ]
    },
    {
      "cell_type": "markdown",
      "metadata": {
        "id": "pZz_TGtcQwbH"
      },
      "source": [
        "##Visualiza o resultado"
      ]
    },
    {
      "cell_type": "code",
      "execution_count": null,
      "metadata": {
        "id": "lP9MRtttQwbH",
        "outputId": "de52489d-c614-46c3-9a7a-1d6e7d5b8f0f"
      },
      "outputs": [
        {
          "name": "stdout",
          "output_type": "stream",
          "text": [
            "313/313 [==============================] - 0s 790us/step\n"
          ]
        },
        {
          "data": {
            "image/png": "[encoded data removed]",
            "text/plain": [
              "<Figure size 1000x400 with 5 Axes>"
            ]
          },
          "metadata": {},
          "output_type": "display_data"
        },
        {
          "data": {
            "image/png": "[encoded data removed]",
            "text/plain": [
              "<Figure size 1000x400 with 5 Axes>"
            ]
          },
          "metadata": {},
          "output_type": "display_data"
        },
        {
          "data": {
            "image/png": "[encoded data removed]",
            "text/plain": [
              "<Figure size 1000x400 with 5 Axes>"
            ]
          },
          "metadata": {},
          "output_type": "display_data"
        }
      ],
      "source": [
        "predictions = AE_Colorido.predict(test_input_data)\n",
        "\n",
        "display([test_input_data, test_output_data, predictions], 5)"
      ]
    }
  ],
  "metadata": {
    "accelerator": "GPU",
    "colab": {
      "gpuType": "T4",
      "provenance": [],
      "include_colab_link": true
    },
    "kernelspec": {
      "display_name": "Python 3",
      "name": "python3"
    },
    "language_info": {
      "codemirror_mode": {
        "name": "ipython",
        "version": 3
      },
      "file_extension": ".py",
      "mimetype": "text/x-python",
      "name": "python",
      "nbconvert_exporter": "python",
      "pygments_lexer": "ipython3",
      "version": "3.9.15"
    }
  },
  "nbformat": 4,
  "nbformat_minor": 0
}